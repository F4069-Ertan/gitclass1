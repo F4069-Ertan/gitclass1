{
  "nbformat": 4,
  "nbformat_minor": 0,
  "metadata": {
    "colab": {
      "provenance": [],
      "authorship_tag": "ABX9TyOlOsGdxL6FV1BU44fUIOxT",
      "include_colab_link": true
    },
    "kernelspec": {
      "name": "python3",
      "display_name": "Python 3"
    },
    "language_info": {
      "name": "python"
    }
  },
  "cells": [
    {
      "cell_type": "markdown",
      "metadata": {
        "id": "view-in-github",
        "colab_type": "text"
      },
      "source": [
        "<a href=\"https://colab.research.google.com/github/F4069-Ertan/gitclass1/blob/main/6-7%20%C3%96devler.ipynb\" target=\"_parent\"><img src=\"https://colab.research.google.com/assets/colab-badge.svg\" alt=\"Open In Colab\"/></a>"
      ]
    },
    {
      "cell_type": "code",
      "execution_count": null,
      "metadata": {
        "colab": {
          "base_uri": "https://localhost:8080/",
          "height": 157
        },
        "id": "2kKey9bMi1xv",
        "outputId": "f16347de-1a92-44ae-f9a7-467e9b5733d1"
      },
      "outputs": [
        {
          "output_type": "stream",
          "name": "stdout",
          "text": [
            "[0, 1, 3, 3, 3, 3, 4, 6, 7]\n",
            "False\n",
            "False\n",
            "True\n",
            "True\n",
            "True\n",
            "False\n"
          ]
        },
        {
          "output_type": "execute_result",
          "data": {
            "text/plain": [
              "'the most frequent number is 3 and it was 4 times repeated'"
            ],
            "application/vnd.google.colaboratory.intrinsic+json": {
              "type": "string"
            }
          },
          "metadata": {},
          "execution_count": 12
        }
      ],
      "source": [
        "numbers = [1, 3, 7, 4, 3, 0, 3, 6, 3]\n",
        "sorted_numbers = [1, 3, 7, 4, 3, 0, 3, 6, 3]\n",
        "sorted_numbers.sort() \n",
        "\n",
        "print(sorted_numbers) # now my list is sorted as [0, 1, 3, 3, 3, 3, 4, 6, 7], now I am searching the repeated numbers..\n",
        "print(sorted_numbers[0] == sorted_numbers[1])\n",
        "print(sorted_numbers[1] == sorted_numbers[2])\n",
        "print(sorted_numbers[2] == sorted_numbers[3])\n",
        "print(sorted_numbers[3] == sorted_numbers[4])\n",
        "print(sorted_numbers[4] == sorted_numbers[5])\n",
        "print(sorted_numbers[5] == sorted_numbers[6]) # here I obtained the results as follows/\n",
        "# False False True True True False, so I took the True ones and found the repeated numbers as I sorted the list earlier.\n",
        "# Then wrote the below string expression with format method:\n",
        "\n",
        "\"the most frequent number is {} and it was {} times repeated\".format(sorted_numbers[2], len(sorted_numbers[2:6]))\n",
        "\n",
        "\n",
        "\n"
      ]
    },
    {
      "cell_type": "code",
      "source": [],
      "metadata": {
        "id": "PUPmBDfIi2UN"
      },
      "execution_count": null,
      "outputs": []
    },
    {
      "cell_type": "code",
      "source": [
        "# You work for a manufacturer as a programmer and have been asked to calculate the total profit made on the sales of a product. \n",
        "# You are given a dictionary (sales) containing the cost price per unit (in dollars), sell price per unit (in dollars), and the beginning inventory. \n",
        "# Write a program to return the total profit made, rounded to the nearest dollar. Assume all of the inventory has been sold. \n",
        "# The name and the keys of the dictionary are constant, so use them as they are.\n",
        "\n",
        "\n",
        "sales = {\n",
        "  \"cost_value\": 31.87,\n",
        "  \"sell_value\": 45.00,\n",
        "  \"inventory\": 1000\n",
        "}  \n",
        "\n",
        "total_profit = (sales[\"sell_value\"] - sales[\"cost_value\"]) * sales[\"inventory\"]\n",
        "print(\"the total profit will be :\", round(total_profit))"
      ],
      "metadata": {
        "colab": {
          "base_uri": "https://localhost:8080/"
        },
        "id": "kKWw0Aloi2Wm",
        "outputId": "d45e8420-753d-4c1e-885e-6bf0aacc65f5"
      },
      "execution_count": null,
      "outputs": [
        {
          "output_type": "stream",
          "name": "stdout",
          "text": [
            "the total profit will be : 13130\n"
          ]
        }
      ]
    },
    {
      "cell_type": "code",
      "source": [],
      "metadata": {
        "id": "KjJYQ1HgAlDf"
      },
      "execution_count": null,
      "outputs": []
    },
    {
      "cell_type": "code",
      "source": [
        "# Your boss wants you to prepare the payrolls of the workers in your department. \n",
        "# You have to convert the amount of dollars into payroll format. \n",
        "# In order to help move things along, \n",
        "# you have volunteered to write a code that will take a float and return the money in the following format (as dollars and cents). "
      ],
      "metadata": {
        "id": "jvR-AuOrAlGA"
      },
      "execution_count": null,
      "outputs": []
    },
    {
      "cell_type": "code",
      "source": [
        "salary= float(input(\"Please enter your salary:\"))\n",
        "f\"Your salary is ${salary:.2f}\""
      ],
      "metadata": {
        "id": "jZjr8bMkAlIu",
        "colab": {
          "base_uri": "https://localhost:8080/",
          "height": 53
        },
        "outputId": "c24bb9f6-fae1-4279-93cd-0856c2715400"
      },
      "execution_count": 6,
      "outputs": [
        {
          "name": "stdout",
          "output_type": "stream",
          "text": [
            "Please enter your salary:2000\n"
          ]
        },
        {
          "output_type": "execute_result",
          "data": {
            "text/plain": [
              "'Your salary is $2000.00'"
            ],
            "application/vnd.google.colaboratory.intrinsic+json": {
              "type": "string"
            }
          },
          "metadata": {},
          "execution_count": 6
        }
      ]
    },
    {
      "cell_type": "code",
      "source": [
        "x = 10000\n",
        "f\"Ertan is very {x:.2f}\""
      ],
      "metadata": {
        "id": "Yk9oTkUZAlLO",
        "colab": {
          "base_uri": "https://localhost:8080/",
          "height": 35
        },
        "outputId": "db07bc9e-de31-4dd1-aac2-24a5760dfdc4"
      },
      "execution_count": 11,
      "outputs": [
        {
          "output_type": "execute_result",
          "data": {
            "text/plain": [
              "'Ertan is very 10000.00'"
            ],
            "application/vnd.google.colaboratory.intrinsic+json": {
              "type": "string"
            }
          },
          "metadata": {},
          "execution_count": 11
        }
      ]
    },
    {
      "cell_type": "code",
      "source": [],
      "metadata": {
        "id": "IbfXTjzeAlNf"
      },
      "execution_count": null,
      "outputs": []
    },
    {
      "cell_type": "code",
      "source": [],
      "metadata": {
        "id": "zETIvr0TAlPo"
      },
      "execution_count": null,
      "outputs": []
    },
    {
      "cell_type": "code",
      "source": [],
      "metadata": {
        "id": "FDnLxYXgi2Yu"
      },
      "execution_count": null,
      "outputs": []
    },
    {
      "cell_type": "code",
      "source": [],
      "metadata": {
        "id": "9ha4ZZn4i2aK"
      },
      "execution_count": null,
      "outputs": []
    },
    {
      "cell_type": "code",
      "source": [],
      "metadata": {
        "id": "bxYNQi4ii2cc"
      },
      "execution_count": null,
      "outputs": []
    },
    {
      "cell_type": "code",
      "source": [],
      "metadata": {
        "id": "CFyNcLYqi2ea"
      },
      "execution_count": null,
      "outputs": []
    }
  ]
}