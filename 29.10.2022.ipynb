{
  "nbformat": 4,
  "nbformat_minor": 0,
  "metadata": {
    "colab": {
      "provenance": [],
      "authorship_tag": "ABX9TyNARbd3vdgLI+m8CzawXnqG",
      "include_colab_link": true
    },
    "kernelspec": {
      "name": "python3",
      "display_name": "Python 3"
    },
    "language_info": {
      "name": "python"
    }
  },
  "cells": [
    {
      "cell_type": "markdown",
      "metadata": {
        "id": "view-in-github",
        "colab_type": "text"
      },
      "source": [
        "<a href=\"https://colab.research.google.com/github/F4069-Ertan/gitclass1/blob/main/29.10.2022.ipynb\" target=\"_parent\"><img src=\"https://colab.research.google.com/assets/colab-badge.svg\" alt=\"Open In Colab\"/></a>"
      ]
    },
    {
      "cell_type": "code",
      "execution_count": null,
      "metadata": {
        "id": "Wq4fA0Bd8rO5"
      },
      "outputs": [],
      "source": [
        "answer = 44\n",
        "\n",
        "question = 'What number am I thinking of?  '\n",
        "print (\"Let's play the guessing game!\")\n",
        "\n",
        "while True:\n",
        "    guess = int(input(question))\n",
        "\n",
        "    if guess < answer:\n",
        "        print('Little higher')\n",
        "    elif guess > answer:\n",
        "        print('Little lower')\n",
        "    else:  # guess == answer\n",
        "        print('Are you a MINDREADER!!!')\n",
        "        break"
      ]
    },
    {
      "cell_type": "code",
      "source": [
        "flowers = ['Rose', 'Orchid', 'Tulip']\n",
        "count1 = len(flowers)\n",
        "count2 = 0\n",
        "\n",
        "while count1>0 :\n",
        "    print(flowers[count2])\n",
        "    count1 -= 1\n",
        "    count2 += 1"
      ],
      "metadata": {
        "colab": {
          "base_uri": "https://localhost:8080/"
        },
        "id": "uOpP36XP8rmJ",
        "outputId": "d915d407-5040-4447-d96d-0ba309bcf784"
      },
      "execution_count": null,
      "outputs": [
        {
          "output_type": "stream",
          "name": "stdout",
          "text": [
            "Rose\n",
            "Orchid\n",
            "Tulip\n"
          ]
        }
      ]
    },
    {
      "cell_type": "code",
      "source": [
        "for i in {'n1' : 'one', 'n2' : 'two'} : \n",
        "  print(i)"
      ],
      "metadata": {
        "colab": {
          "base_uri": "https://localhost:8080/"
        },
        "id": "4bz5D2rZ8ron",
        "outputId": "1e5a6369-4f42-4ad1-9b71-10752182fa68"
      },
      "execution_count": null,
      "outputs": [
        {
          "output_type": "stream",
          "name": "stdout",
          "text": [
            "n1\n",
            "n2\n"
          ]
        }
      ]
    },
    {
      "cell_type": "code",
      "source": [
        "times = int(input(\"Seni sevdiğimi kaç defa söylememi istersin balım\"))\n",
        "\n",
        "for i in range(times):\n",
        "    print('Seni SEVİYOORUUMMMMM')"
      ],
      "metadata": {
        "id": "fy-hFU1p8rrB"
      },
      "execution_count": null,
      "outputs": []
    },
    {
      "cell_type": "code",
      "source": [
        "n = int(input('enter a number between 1-10: '))\n",
        "\n",
        "for i in range(11):\n",
        "    print(f'{n}x{i} = {n*i}')"
      ],
      "metadata": {
        "id": "yh-X1EIo8rvl"
      },
      "execution_count": null,
      "outputs": []
    },
    {
      "cell_type": "code",
      "source": [
        "text = ['one','two','three','four']\n",
        "numbers = [1, 2, 3, 4]\n",
        "for x in text:\n",
        "    print(x, ':', y)"
      ],
      "metadata": {
        "colab": {
          "base_uri": "https://localhost:8080/"
        },
        "id": "ji5YjEaR8ry3",
        "outputId": "53681bbd-ef93-4370-ee03-8ddd6b80b371"
      },
      "execution_count": null,
      "outputs": [
        {
          "output_type": "stream",
          "name": "stdout",
          "text": [
            "one : 6\n",
            "two : 6\n",
            "three : 6\n",
            "four : 6\n"
          ]
        }
      ]
    },
    {
      "cell_type": "code",
      "source": [],
      "metadata": {
        "id": "_i1HgMbr2j_K"
      },
      "execution_count": null,
      "outputs": []
    },
    {
      "cell_type": "code",
      "source": [
        "sayaç = 0\n",
        "while sayaç < 5 :\n",
        "  print(\"seni seviyore\")\n",
        "  sayaç += 1"
      ],
      "metadata": {
        "colab": {
          "base_uri": "https://localhost:8080/"
        },
        "id": "EzvGvQ4F2j9O",
        "outputId": "1ec4d05b-061c-4c37-88e8-973a4ebb2e0b"
      },
      "execution_count": 1,
      "outputs": [
        {
          "output_type": "stream",
          "name": "stdout",
          "text": [
            "seni seviyore\n",
            "seni seviyore\n",
            "seni seviyore\n",
            "seni seviyore\n",
            "seni seviyore\n"
          ]
        }
      ]
    },
    {
      "cell_type": "code",
      "source": [
        "a = 3\n",
        "b = 4\n",
        "print(a is b)\n",
        "print(a is not b)"
      ],
      "metadata": {
        "colab": {
          "base_uri": "https://localhost:8080/"
        },
        "id": "LBLkPFo_2j6t",
        "outputId": "60cab58e-dfd8-4910-c937-290729c01e70"
      },
      "execution_count": 3,
      "outputs": [
        {
          "output_type": "stream",
          "name": "stdout",
          "text": [
            "False\n",
            "True\n"
          ]
        }
      ]
    },
    {
      "cell_type": "code",
      "source": [
        "my_list = [\"a\", \"b\", \"c\", \"d\", \"e\"]\n",
        " \n",
        "a = 0\n",
        "\n",
        "while a < len(my_list):\n",
        "  print(f\"square of {a} is : {a**2}\")\n",
        "  a += 1"
      ],
      "metadata": {
        "colab": {
          "base_uri": "https://localhost:8080/"
        },
        "id": "a5AoGUlv2j4B",
        "outputId": "39428573-f54f-4327-8e4d-08d97fbec32f"
      },
      "execution_count": 4,
      "outputs": [
        {
          "output_type": "stream",
          "name": "stdout",
          "text": [
            "square of 0 is : 0\n",
            "square of 1 is : 1\n",
            "square of 2 is : 4\n",
            "square of 3 is : 9\n",
            "square of 4 is : 16\n"
          ]
        }
      ]
    },
    {
      "cell_type": "code",
      "source": [
        "age = input(\"Please enter your age\")\n",
        "n = range(11)"
      ],
      "metadata": {
        "id": "J64DDU5m2j1S"
      },
      "execution_count": null,
      "outputs": []
    },
    {
      "cell_type": "code",
      "source": [
        "sayı = 44\n",
        "\n",
        "print(\"Hadi bakalım kahinlik var mı sende:)\")\n",
        "\n",
        "\n",
        "\n",
        "while True:\n",
        "  \n",
        "  if int(input(\"Aklımdan tuttuğum sayı kaç sence:)\")) < soru:\n",
        "    print(\"biraz yukarı\")\n",
        "  elif int(input(\"Aklımdan tuttuğum sayı kaç sence:)\")) > soru:\n",
        "    print(\"biraz aşağı\")\n",
        "  else :\n",
        "    print(\"tam üstüne bastın\")\n",
        "    break"
      ],
      "metadata": {
        "colab": {
          "base_uri": "https://localhost:8080/"
        },
        "id": "0vzIJd8B2jyy",
        "outputId": "4fc96d3a-84f2-4d64-9b38-fb29db686754"
      },
      "execution_count": 12,
      "outputs": [
        {
          "output_type": "stream",
          "name": "stdout",
          "text": [
            "Hadi bakalım kahinlik var mı sende:)\n",
            "Aklımdan tuttuğum sayı kaç sence:)46\n",
            "Aklımdan tuttuğum sayı kaç sence:)43\n",
            "tam üstüne bastın\n"
          ]
        }
      ]
    },
    {
      "cell_type": "code",
      "source": [
        "kelimeler = input(\"bir cümle yazınız: \").split()\n"
      ],
      "metadata": {
        "colab": {
          "base_uri": "https://localhost:8080/"
        },
        "id": "iIx1PSjS2jwF",
        "outputId": "e48ca307-e80a-4aca-da47-64a25829f8c3"
      },
      "execution_count": 14,
      "outputs": [
        {
          "name": "stdout",
          "output_type": "stream",
          "text": [
            "bir cümle yazınızdeğişmeyen tek şey değişimdir\n"
          ]
        }
      ]
    },
    {
      "cell_type": "code",
      "source": [],
      "metadata": {
        "id": "mJafHBoI2jte"
      },
      "execution_count": null,
      "outputs": []
    },
    {
      "cell_type": "code",
      "source": [],
      "metadata": {
        "id": "Wybh3NZB2jrE"
      },
      "execution_count": null,
      "outputs": []
    },
    {
      "cell_type": "code",
      "source": [],
      "metadata": {
        "id": "Iy2nAfmB2joj"
      },
      "execution_count": null,
      "outputs": []
    },
    {
      "cell_type": "code",
      "source": [],
      "metadata": {
        "id": "-BNJPUm_2jl3"
      },
      "execution_count": null,
      "outputs": []
    }
  ]
}