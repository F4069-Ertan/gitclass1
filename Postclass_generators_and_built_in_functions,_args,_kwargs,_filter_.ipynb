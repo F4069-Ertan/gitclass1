{
  "nbformat": 4,
  "nbformat_minor": 0,
  "metadata": {
    "colab": {
      "provenance": [],
      "authorship_tag": "ABX9TyNZyTjhay3crciNC4uuOjNn",
      "include_colab_link": true
    },
    "kernelspec": {
      "name": "python3",
      "display_name": "Python 3"
    },
    "language_info": {
      "name": "python"
    }
  },
  "cells": [
    {
      "cell_type": "markdown",
      "metadata": {
        "id": "view-in-github",
        "colab_type": "text"
      },
      "source": [
        "<a href=\"https://colab.research.google.com/github/F4069-Ertan/gitclass1/blob/main/Postclass_generators_and_built_in_functions%2C_args%2C_kwargs%2C_filter_.ipynb\" target=\"_parent\"><img src=\"https://colab.research.google.com/assets/colab-badge.svg\" alt=\"Open In Colab\"/></a>"
      ]
    },
    {
      "cell_type": "code",
      "execution_count": null,
      "metadata": {
        "colab": {
          "base_uri": "https://localhost:8080/"
        },
        "id": "OHGiU9nudUM6",
        "outputId": "b0742e65-fd78-49b4-dad1-2c3cf01381c8"
      },
      "outputs": [
        {
          "output_type": "stream",
          "name": "stdout",
          "text": [
            "<generator object <genexpr> at 0x7fccea3101d0>\n"
          ]
        }
      ],
      "source": [
        "generate = (i * 3 for i in range(10))\n",
        "print(generate)"
      ]
    },
    {
      "cell_type": "code",
      "source": [
        "print(next(generate))"
      ],
      "metadata": {
        "colab": {
          "base_uri": "https://localhost:8080/",
          "height": 166
        },
        "id": "dPcYMRV-deWU",
        "outputId": "6c513e25-5e7e-4ec8-d579-27a23662f4f1"
      },
      "execution_count": null,
      "outputs": [
        {
          "output_type": "error",
          "ename": "StopIteration",
          "evalue": "ignored",
          "traceback": [
            "\u001b[0;31m---------------------------------------------------------------------------\u001b[0m",
            "\u001b[0;31mStopIteration\u001b[0m                             Traceback (most recent call last)",
            "\u001b[0;32m<ipython-input-24-e0b94480744e>\u001b[0m in \u001b[0;36m<module>\u001b[0;34m\u001b[0m\n\u001b[0;32m----> 1\u001b[0;31m \u001b[0mprint\u001b[0m\u001b[0;34m(\u001b[0m\u001b[0mnext\u001b[0m\u001b[0;34m(\u001b[0m\u001b[0mgenerate\u001b[0m\u001b[0;34m)\u001b[0m\u001b[0;34m)\u001b[0m\u001b[0;34m\u001b[0m\u001b[0;34m\u001b[0m\u001b[0m\n\u001b[0m",
            "\u001b[0;31mStopIteration\u001b[0m: "
          ]
        }
      ]
    },
    {
      "cell_type": "code",
      "source": [],
      "metadata": {
        "id": "1WdmDmgwdeYt"
      },
      "execution_count": null,
      "outputs": []
    },
    {
      "cell_type": "code",
      "source": [
        "generator = ((i ** 2 if i > 5 else i**3) for i in range(10))\n"
      ],
      "metadata": {
        "id": "15cuXV_ideb8"
      },
      "execution_count": null,
      "outputs": []
    },
    {
      "cell_type": "code",
      "source": [
        "next(generator)"
      ],
      "metadata": {
        "colab": {
          "base_uri": "https://localhost:8080/"
        },
        "id": "p5TLkytOdegy",
        "outputId": "19ae7b14-6875-4f53-f960-7a459d36f975"
      },
      "execution_count": null,
      "outputs": [
        {
          "output_type": "execute_result",
          "data": {
            "text/plain": [
              "125"
            ]
          },
          "metadata": {},
          "execution_count": 39
        }
      ]
    },
    {
      "cell_type": "code",
      "source": [
        "isimler = [\"ali\", \"deli\", \"veli\"]\n",
        "sayaç = 0\n",
        "liste = []\n",
        "for i in isimler:\n",
        "  liste.append((sayaç, {sayaç : i}))\n",
        "  sayaç += 1\n",
        "\n",
        "print(liste)"
      ],
      "metadata": {
        "colab": {
          "base_uri": "https://localhost:8080/"
        },
        "id": "iD83WN7ddekf",
        "outputId": "fa75d995-925f-48e7-f018-140697db5984"
      },
      "execution_count": null,
      "outputs": [
        {
          "output_type": "stream",
          "name": "stdout",
          "text": [
            "[(0, {0: 'ali'}), (1, {1: 'deli'}), (2, {2: 'veli'})]\n"
          ]
        }
      ]
    },
    {
      "cell_type": "code",
      "source": [],
      "metadata": {
        "id": "wy1iSTQsdem_"
      },
      "execution_count": null,
      "outputs": []
    },
    {
      "cell_type": "code",
      "source": [
        "grocery = [\"bread\", \"milk\", \"butter\"]\n",
        "\n",
        "for ertan, aslan in enumerate(grocery, 100):\n",
        "  print(ertan, aslan)"
      ],
      "metadata": {
        "colab": {
          "base_uri": "https://localhost:8080/"
        },
        "id": "i_qo4L6zdepV",
        "outputId": "8a936a2d-b136-4670-c0bd-ed83a79f8a1d"
      },
      "execution_count": null,
      "outputs": [
        {
          "output_type": "stream",
          "name": "stdout",
          "text": [
            "100 bread\n",
            "101 milk\n",
            "102 butter\n"
          ]
        }
      ]
    },
    {
      "cell_type": "code",
      "source": [
        "numbers = [1,2,3,4,5,6,78,87]\n",
        "print(max(numbers))"
      ],
      "metadata": {
        "colab": {
          "base_uri": "https://localhost:8080/"
        },
        "id": "TTHyKcAXdesA",
        "outputId": "0aa18d97-de03-440a-a8be-852df15b5791"
      },
      "execution_count": null,
      "outputs": [
        {
          "output_type": "stream",
          "name": "stdout",
          "text": [
            "87\n"
          ]
        }
      ]
    },
    {
      "cell_type": "code",
      "source": [
        "numbers = [1,2,3,4,5,6,78,87]\n",
        "print(sum(numbers))"
      ],
      "metadata": {
        "colab": {
          "base_uri": "https://localhost:8080/"
        },
        "id": "C2NE2jpldeuH",
        "outputId": "f92f0bfc-809f-461a-ae7f-0c94fb8e3d4b"
      },
      "execution_count": null,
      "outputs": [
        {
          "output_type": "stream",
          "name": "stdout",
          "text": [
            "186\n"
          ]
        }
      ]
    },
    {
      "cell_type": "code",
      "source": [
        "sums = sum(1,2,3,4,5)\n",
        "print(sums)"
      ],
      "metadata": {
        "colab": {
          "base_uri": "https://localhost:8080/",
          "height": 183
        },
        "id": "IE_ST9ChdewZ",
        "outputId": "9ccfd537-27e3-4b56-c4e7-dd953677656b"
      },
      "execution_count": null,
      "outputs": [
        {
          "output_type": "error",
          "ename": "TypeError",
          "evalue": "ignored",
          "traceback": [
            "\u001b[0;31m---------------------------------------------------------------------------\u001b[0m",
            "\u001b[0;31mTypeError\u001b[0m                                 Traceback (most recent call last)",
            "\u001b[0;32m<ipython-input-9-5721242d464b>\u001b[0m in \u001b[0;36m<module>\u001b[0;34m\u001b[0m\n\u001b[0;32m----> 1\u001b[0;31m \u001b[0msums\u001b[0m \u001b[0;34m=\u001b[0m \u001b[0msum\u001b[0m\u001b[0;34m(\u001b[0m\u001b[0;36m1\u001b[0m\u001b[0;34m,\u001b[0m\u001b[0;36m2\u001b[0m\u001b[0;34m,\u001b[0m\u001b[0;36m3\u001b[0m\u001b[0;34m,\u001b[0m\u001b[0;36m4\u001b[0m\u001b[0;34m,\u001b[0m\u001b[0;36m5\u001b[0m\u001b[0;34m)\u001b[0m\u001b[0;34m\u001b[0m\u001b[0;34m\u001b[0m\u001b[0m\n\u001b[0m\u001b[1;32m      2\u001b[0m \u001b[0mprint\u001b[0m\u001b[0;34m(\u001b[0m\u001b[0msums\u001b[0m\u001b[0;34m)\u001b[0m\u001b[0;34m\u001b[0m\u001b[0;34m\u001b[0m\u001b[0m\n",
            "\u001b[0;31mTypeError\u001b[0m: sum expected at most 2 arguments, got 5"
          ]
        }
      ]
    },
    {
      "cell_type": "code",
      "source": [
        "sums = [1,2,3,4,5]\n",
        "\n",
        "print(sum(sums, 20))"
      ],
      "metadata": {
        "colab": {
          "base_uri": "https://localhost:8080/"
        },
        "id": "wWlhzZHNdey1",
        "outputId": "7f6ef9ef-094f-493a-bdbc-c51321d50a3f"
      },
      "execution_count": null,
      "outputs": [
        {
          "output_type": "stream",
          "name": "stdout",
          "text": [
            "35\n"
          ]
        }
      ]
    },
    {
      "cell_type": "code",
      "source": [
        "pi = 3.1467234\n",
        "print(round(pi,3))"
      ],
      "metadata": {
        "colab": {
          "base_uri": "https://localhost:8080/"
        },
        "id": "XNTeYI8qde0x",
        "outputId": "0f957a0e-f7bd-4ee8-f7d7-828333e08862"
      },
      "execution_count": null,
      "outputs": [
        {
          "output_type": "stream",
          "name": "stdout",
          "text": [
            "3.147\n"
          ]
        }
      ]
    },
    {
      "cell_type": "code",
      "source": [
        "x = len(\"4+5\")\n",
        "print(x)\n",
        "print(x+2)\n",
        "print(x*3)"
      ],
      "metadata": {
        "colab": {
          "base_uri": "https://localhost:8080/"
        },
        "id": "tDyzhS3hde2v",
        "outputId": "5dfed7fd-ccac-46f1-fb24-596b2349926c"
      },
      "execution_count": null,
      "outputs": [
        {
          "output_type": "stream",
          "name": "stdout",
          "text": [
            "3\n",
            "5\n",
            "9\n"
          ]
        }
      ]
    },
    {
      "cell_type": "code",
      "source": [
        "print(x * 3)"
      ],
      "metadata": {
        "colab": {
          "base_uri": "https://localhost:8080/"
        },
        "id": "pv29-TbMde42",
        "outputId": "c2dd78af-ab2a-4148-fc39-429e51c3cde9"
      },
      "execution_count": null,
      "outputs": [
        {
          "output_type": "stream",
          "name": "stdout",
          "text": [
            "9\n"
          ]
        }
      ]
    },
    {
      "cell_type": "code",
      "source": [],
      "metadata": {
        "id": "kf4HDTMvh2NU"
      },
      "execution_count": null,
      "outputs": []
    },
    {
      "cell_type": "code",
      "source": [
        "def fonk():\n",
        "  return \"a + b\" "
      ],
      "metadata": {
        "id": "Mp1rB9poh2KN"
      },
      "execution_count": null,
      "outputs": []
    },
    {
      "cell_type": "code",
      "source": [
        "fonk()"
      ],
      "metadata": {
        "colab": {
          "base_uri": "https://localhost:8080/",
          "height": 36
        },
        "id": "qi1XgeyTh2HH",
        "outputId": "be0c57ab-e1c7-4278-f4cd-e6ce6805369d"
      },
      "execution_count": null,
      "outputs": [
        {
          "output_type": "execute_result",
          "data": {
            "text/plain": [
              "'a + b'"
            ],
            "application/vnd.google.colaboratory.intrinsic+json": {
              "type": "string"
            }
          },
          "metadata": {},
          "execution_count": 33
        }
      ]
    },
    {
      "cell_type": "code",
      "source": [
        "del fonk"
      ],
      "metadata": {
        "id": "byKyOh4Wh2EN"
      },
      "execution_count": null,
      "outputs": []
    },
    {
      "cell_type": "code",
      "source": [
        "def converter(x):\n",
        "  if x >= 0:\n",
        "    return x\n",
        "  else:\n",
        "    return -x"
      ],
      "metadata": {
        "id": "XAVD8_A4h2BY"
      },
      "execution_count": null,
      "outputs": []
    },
    {
      "cell_type": "code",
      "source": [
        "converter(-5)"
      ],
      "metadata": {
        "colab": {
          "base_uri": "https://localhost:8080/"
        },
        "id": "jQSdV304h1-k",
        "outputId": "a1e8ebba-f296-4e78-a488-7fdbaeb31d25"
      },
      "execution_count": null,
      "outputs": [
        {
          "output_type": "execute_result",
          "data": {
            "text/plain": [
              "5"
            ]
          },
          "metadata": {},
          "execution_count": 37
        }
      ]
    },
    {
      "cell_type": "code",
      "source": [],
      "metadata": {
        "id": "YXuxM360h175"
      },
      "execution_count": null,
      "outputs": []
    },
    {
      "cell_type": "code",
      "source": [],
      "metadata": {
        "id": "ifKEKYk7w2EI"
      },
      "execution_count": null,
      "outputs": []
    },
    {
      "cell_type": "code",
      "source": [
        "\n",
        "(lambda n : n**2)(10)\n",
        "\n",
        "\n"
      ],
      "metadata": {
        "colab": {
          "base_uri": "https://localhost:8080/"
        },
        "id": "9fZy7OgDw2CQ",
        "outputId": "6437bb60-00ef-4f85-f36a-b98bc60df598"
      },
      "execution_count": null,
      "outputs": [
        {
          "output_type": "execute_result",
          "data": {
            "text/plain": [
              "100"
            ]
          },
          "metadata": {},
          "execution_count": 43
        }
      ]
    },
    {
      "cell_type": "code",
      "source": [
        "ortalama = (lambda x, y: (x+y)/2)(10,100) \n",
        "print(ortalama)"
      ],
      "metadata": {
        "colab": {
          "base_uri": "https://localhost:8080/"
        },
        "id": "z9TzI6fUw2AM",
        "outputId": "45483fce-35fe-494e-c999-6befcf4e6171"
      },
      "execution_count": null,
      "outputs": [
        {
          "output_type": "stream",
          "name": "stdout",
          "text": [
            "55.0\n"
          ]
        }
      ]
    },
    {
      "cell_type": "code",
      "source": [
        "fonksiyonum = lambda x, y : (x + y)/5\n",
        "\n",
        "print(fonksiyonum(10,10))"
      ],
      "metadata": {
        "colab": {
          "base_uri": "https://localhost:8080/"
        },
        "id": "1yp-Ln0Kw19v",
        "outputId": "607da008-d3cd-4985-b95e-109d847a0fcf"
      },
      "execution_count": null,
      "outputs": [
        {
          "output_type": "stream",
          "name": "stdout",
          "text": [
            "4.0\n"
          ]
        }
      ]
    },
    {
      "cell_type": "code",
      "source": [
        "echo_word = lambda x: x * 3\n",
        "print(echo_word(\"hello\"))\n"
      ],
      "metadata": {
        "colab": {
          "base_uri": "https://localhost:8080/"
        },
        "id": "IMRigag2w16t",
        "outputId": "ed5498bd-9220-4def-a4ea-4cf5aafef77a"
      },
      "execution_count": null,
      "outputs": [
        {
          "output_type": "stream",
          "name": "stdout",
          "text": [
            "hellohellohello\n"
          ]
        }
      ]
    },
    {
      "cell_type": "code",
      "source": [
        "echo_word = lambda x, y: x * y\n",
        "\n",
        "echo_word(\"hello\", 3)\n"
      ],
      "metadata": {
        "colab": {
          "base_uri": "https://localhost:8080/",
          "height": 36
        },
        "id": "0YmvxoHPw14X",
        "outputId": "52db59ca-e4b0-4060-b621-b56c005c673d"
      },
      "execution_count": null,
      "outputs": [
        {
          "output_type": "execute_result",
          "data": {
            "text/plain": [
              "'hellohellohello'"
            ],
            "application/vnd.google.colaboratory.intrinsic+json": {
              "type": "string"
            }
          },
          "metadata": {},
          "execution_count": 48
        }
      ]
    },
    {
      "cell_type": "code",
      "source": [
        "listem = [1, 2, 3, 4, 5]\n",
        "fonksiyonum = map(lambda x: x**2, listem)\n",
        "fonksiyonum\n",
        "\n"
      ],
      "metadata": {
        "colab": {
          "base_uri": "https://localhost:8080/"
        },
        "id": "9RjrJeT9w12C",
        "outputId": "fd4bb9ed-3b19-4d11-e157-74ec8da5c68e"
      },
      "execution_count": null,
      "outputs": [
        {
          "output_type": "execute_result",
          "data": {
            "text/plain": [
              "<map at 0x7f95c344f710>"
            ]
          },
          "metadata": {},
          "execution_count": 54
        }
      ]
    },
    {
      "cell_type": "code",
      "source": [],
      "metadata": {
        "id": "_vakkLNJw1wo"
      },
      "execution_count": null,
      "outputs": []
    },
    {
      "cell_type": "code",
      "source": [
        "first_ten = [0, 1, 2, 3, 4, 5, 6, 7, 8, 9] \n",
        "  \n",
        "even = filter(lambda x:x%2==0, first_ten) \n",
        "print('Even numbers are :', list(even))"
      ],
      "metadata": {
        "colab": {
          "base_uri": "https://localhost:8080/"
        },
        "id": "sVVAChdQw1t4",
        "outputId": "155605f6-3502-4797-dce0-f2b1e2518ffe"
      },
      "execution_count": null,
      "outputs": [
        {
          "output_type": "stream",
          "name": "stdout",
          "text": [
            "Even numbers are : [0, 2, 4, 6, 8]\n"
          ]
        }
      ]
    },
    {
      "cell_type": "code",
      "source": [
        "vowel_list = ['a', 'e', 'i', 'o', 'u']\n",
        "first_ten = ['a', 'b', 'c', 'd', 'e', 'f', 'g', 'h', 'i', 'j']\n",
        "  \n",
        "vowels = filter(lambda x: True if x in vowel_list else False, first_ten) \n",
        "\n",
        "print('Vowels are :', list(vowels))"
      ],
      "metadata": {
        "colab": {
          "base_uri": "https://localhost:8080/"
        },
        "id": "0MYXGu_lw1rY",
        "outputId": "2d85185f-0690-4ad6-8759-cd8d4264bc0c"
      },
      "execution_count": null,
      "outputs": [
        {
          "output_type": "stream",
          "name": "stdout",
          "text": [
            "Vowels are : ['a', 'e', 'i']\n"
          ]
        }
      ]
    },
    {
      "cell_type": "code",
      "source": [
        "def sum_double(x, y):\n",
        "  if x != y:\n",
        "    return x + y \n",
        "  else: \n",
        "    return (x + y) * 2\n",
        "\n"
      ],
      "metadata": {
        "id": "p2Mq23paw1oX"
      },
      "execution_count": null,
      "outputs": []
    },
    {
      "cell_type": "code",
      "source": [
        "\n",
        "\n",
        "\n",
        "\n",
        "def slicer (*x):\n",
        "  even_nums = []\n",
        "  odd_nums = []\n",
        "\n",
        "  for i in x:\n",
        "    if i % 2 == 0:\n",
        "      even_nums.append(i)\n",
        "    else:\n",
        "      odd_nums.append(i)\n",
        "    \n",
        "  print(even_nums)\n",
        "  print(odd_nums)"
      ],
      "metadata": {
        "id": "r2Kl3biAK2Ac"
      },
      "execution_count": 93,
      "outputs": []
    },
    {
      "cell_type": "code",
      "source": [
        "slicer(1, 2, 3, 4, 5, 6, 7, 8, 9, 10, 11, 12, 13, 14)"
      ],
      "metadata": {
        "colab": {
          "base_uri": "https://localhost:8080/"
        },
        "id": "m2RE17oQK1-C",
        "outputId": "c5b897f8-d474-4005-ca19-e12fbc34ef0a"
      },
      "execution_count": 95,
      "outputs": [
        {
          "output_type": "stream",
          "name": "stdout",
          "text": [
            "[2, 4, 6, 8, 10, 12, 14]\n",
            "[1, 3, 5, 7, 9, 11, 13]\n"
          ]
        }
      ]
    },
    {
      "cell_type": "code",
      "source": [
        "\n",
        "\n",
        "def organizer(**people):\n",
        "  names = []\n",
        "  ages = []\n",
        "  \n",
        "  for keys, values in people.items():\n",
        "    names.append(keys)\n",
        "    ages.append(values)\n",
        "  print(names)\n",
        "  print(ages)"
      ],
      "metadata": {
        "id": "LPYZp-O3K17x"
      },
      "execution_count": 96,
      "outputs": []
    },
    {
      "cell_type": "code",
      "source": [
        "organizer(Ahmet = 32, Mehmet = 33, Deki = 43)"
      ],
      "metadata": {
        "colab": {
          "base_uri": "https://localhost:8080/"
        },
        "id": "ULfGgBBzK15c",
        "outputId": "a890abd0-ca77-41d2-803a-6b45eec68471"
      },
      "execution_count": 98,
      "outputs": [
        {
          "output_type": "stream",
          "name": "stdout",
          "text": [
            "['Ahmet', 'Mehmet', 'Deki']\n",
            "[32, 33, 43]\n"
          ]
        }
      ]
    },
    {
      "cell_type": "code",
      "source": [
        "def organizer(**people):\n",
        "  names = (i for i in people.keys())\n",
        "  ages = (i for i in people.values())\n",
        "\n",
        "  print(names)\n",
        "  print(ages)"
      ],
      "metadata": {
        "id": "OEGLzS7fK13H"
      },
      "execution_count": 103,
      "outputs": []
    },
    {
      "cell_type": "code",
      "source": [
        "organizer(Ahmet = 32, Mehmet = 33, Deki = 43)"
      ],
      "metadata": {
        "colab": {
          "base_uri": "https://localhost:8080/"
        },
        "id": "24alog2wK10i",
        "outputId": "e83f520a-36ec-475b-df0c-fb0c7708d916"
      },
      "execution_count": 104,
      "outputs": [
        {
          "output_type": "stream",
          "name": "stdout",
          "text": [
            "<generator object organizer.<locals>.<genexpr> at 0x7f95bb41ee50>\n",
            "<generator object organizer.<locals>.<genexpr> at 0x7f95bb421cd0>\n"
          ]
        }
      ]
    },
    {
      "cell_type": "code",
      "source": [
        "rev = lambda x : x[::-1]\n",
        "rev(\"Ertan\")"
      ],
      "metadata": {
        "colab": {
          "base_uri": "https://localhost:8080/",
          "height": 36
        },
        "id": "IcvmTKBBK1x6",
        "outputId": "47c16683-5f87-4783-9480-2bb0994d20ea"
      },
      "execution_count": 110,
      "outputs": [
        {
          "output_type": "execute_result",
          "data": {
            "text/plain": [
              "'natrE'"
            ],
            "application/vnd.google.colaboratory.intrinsic+json": {
              "type": "string"
            }
          },
          "metadata": {},
          "execution_count": 110
        }
      ]
    },
    {
      "cell_type": "code",
      "source": [
        "\n",
        "liste = [1,2,3,4,5,6]\n",
        "for i in liste:\n",
        "  print(i:\"odd\" if i % 2 else i:\"even\",\n"
      ],
      "metadata": {
        "colab": {
          "base_uri": "https://localhost:8080/",
          "height": 131
        },
        "id": "MOt8WH0BK1vD",
        "outputId": "6f7be820-564f-4b4f-a2b3-9f76e62e8ea7"
      },
      "execution_count": 117,
      "outputs": [
        {
          "output_type": "error",
          "ename": "SyntaxError",
          "evalue": "ignored",
          "traceback": [
            "\u001b[0;36m  File \u001b[0;32m\"<ipython-input-117-71d554ad7a5e>\"\u001b[0;36m, line \u001b[0;32m3\u001b[0m\n\u001b[0;31m    print((lambda i: [i] if i % 2 else [i])(i)\u001b[0m\n\u001b[0m                                              ^\u001b[0m\n\u001b[0;31mSyntaxError\u001b[0m\u001b[0;31m:\u001b[0m unexpected EOF while parsing\n"
          ]
        }
      ]
    },
    {
      "cell_type": "code",
      "source": [],
      "metadata": {
        "id": "Bxw5eb78K1sl"
      },
      "execution_count": null,
      "outputs": []
    },
    {
      "cell_type": "code",
      "source": [
        "def fruiterer (*fruit):\n",
        "  print(\"I want to get: \")\n",
        "  for i in fruit:\n",
        "    print(\"-\", i)"
      ],
      "metadata": {
        "id": "2POoXJMX31oN"
      },
      "execution_count": 6,
      "outputs": []
    },
    {
      "cell_type": "code",
      "source": [
        "fruiterer(\"orange\", \"banana\", \"apple\", \"strawberrey\")"
      ],
      "metadata": {
        "colab": {
          "base_uri": "https://localhost:8080/"
        },
        "id": "Q5tifR8r31lU",
        "outputId": "4a207932-b978-4c43-e50e-28597b8fe3be"
      },
      "execution_count": 7,
      "outputs": [
        {
          "output_type": "stream",
          "name": "stdout",
          "text": [
            "I want to get: \n",
            "- orange\n",
            "- banana\n",
            "- apple\n",
            "- strawberrey\n"
          ]
        }
      ]
    },
    {
      "cell_type": "code",
      "source": [
        "def slicer (*numbers):\n",
        "  evens = []\n",
        "  odds = []\n",
        "\n",
        "  for i in numbers:\n",
        "    if i % 2 == 0:\n",
        "      evens.append(i)\n",
        "    else:\n",
        "      odds.append(i)\n",
        "  print(\"even numbers are: \", evens)\n",
        "  print(\"odd numbers are: \", odds)"
      ],
      "metadata": {
        "id": "QpU_HgnH31i0"
      },
      "execution_count": 10,
      "outputs": []
    },
    {
      "cell_type": "code",
      "source": [
        "slicer(0,1,2,3,4,5,6,7,8,9,10,11,12,13)"
      ],
      "metadata": {
        "colab": {
          "base_uri": "https://localhost:8080/"
        },
        "id": "4EPtIHYv31gQ",
        "outputId": "ab7e60ad-1895-4fc7-8d48-692a6b7197dd"
      },
      "execution_count": 14,
      "outputs": [
        {
          "output_type": "stream",
          "name": "stdout",
          "text": [
            "even numbers are:  [0, 2, 4, 6, 8, 10, 12]\n",
            "odd numbers are:  [1, 3, 5, 7, 9, 11, 13]\n"
          ]
        }
      ]
    },
    {
      "cell_type": "code",
      "source": [
        "def slicer (*numbers):\n",
        "  print(\"even numbers are:\", [i**2 for i in numbers if i % 2 == 0])\n",
        "  print(\"odd numbers are: \", [i**3 for i in numbers if not i % 2 == 0])\n"
      ],
      "metadata": {
        "id": "ZOEbOYSP31VT"
      },
      "execution_count": 19,
      "outputs": []
    },
    {
      "cell_type": "code",
      "source": [
        "slicer(0,1,2,3,4,5,6,7,8,9,10,11,12,13)"
      ],
      "metadata": {
        "colab": {
          "base_uri": "https://localhost:8080/"
        },
        "id": "UTagewJ431Qb",
        "outputId": "695224fc-1e81-40f0-b5bb-0b35671990b7"
      },
      "execution_count": 20,
      "outputs": [
        {
          "output_type": "stream",
          "name": "stdout",
          "text": [
            "even numbers are: [0, 4, 16, 36, 64, 100, 144]\n",
            "odd numbers are:  [1, 27, 125, 343, 729, 1331, 2197]\n"
          ]
        }
      ]
    },
    {
      "cell_type": "code",
      "source": [],
      "metadata": {
        "id": "jPiYGm6Y31OD"
      },
      "execution_count": null,
      "outputs": []
    },
    {
      "cell_type": "code",
      "source": [
        "def ailem (**bilgiler):\n",
        "  for isim, soyisim in bilgiler.items():\n",
        "    print(isim, soyisim)\n",
        "\n"
      ],
      "metadata": {
        "id": "f-xbsiUv31LN"
      },
      "execution_count": 36,
      "outputs": []
    },
    {
      "cell_type": "code",
      "source": [
        "ailem(ertan = \"aslan\", züleyha = \"aslan\", orhan = \"aslan\", vildan = \"aslan\")"
      ],
      "metadata": {
        "colab": {
          "base_uri": "https://localhost:8080/"
        },
        "id": "vgZFUk_631IU",
        "outputId": "03ce1e8a-9d88-4ba2-da2d-ac714f954eb9"
      },
      "execution_count": 37,
      "outputs": [
        {
          "output_type": "stream",
          "name": "stdout",
          "text": [
            "ertan aslan\n",
            "züleyha aslan\n",
            "orhan aslan\n",
            "vildan aslan\n"
          ]
        }
      ]
    },
    {
      "cell_type": "code",
      "source": [],
      "metadata": {
        "id": "v6LX7NOVAWk-"
      },
      "execution_count": null,
      "outputs": []
    },
    {
      "cell_type": "code",
      "source": [
        "def organizer (**data):\n",
        "  print(\"Names are: \", [i for i, j in data.items()])\n",
        "  print(\"Ages are: \", [j for i, j in data.items()])"
      ],
      "metadata": {
        "id": "g1cX-isgAWif"
      },
      "execution_count": 40,
      "outputs": []
    },
    {
      "cell_type": "code",
      "source": [
        "organizer(ertan = 35, züleyha = 33, orhan = 7, vildan = 1)"
      ],
      "metadata": {
        "colab": {
          "base_uri": "https://localhost:8080/"
        },
        "id": "VIP4j_liAWgG",
        "outputId": "a41c1279-1664-47fc-f479-1e16728097f5"
      },
      "execution_count": 43,
      "outputs": [
        {
          "output_type": "stream",
          "name": "stdout",
          "text": [
            "Names are:  ['ertan', 'züleyha', 'orhan', 'vildan']\n",
            "Ages are:  [35, 33, 7, 1]\n"
          ]
        }
      ]
    },
    {
      "cell_type": "code",
      "source": [
        "cümle = \"Merhaba Ertan, Dersler nasıl gidiyor\"\n",
        "\n",
        "\n",
        "def sesli_bulucu (harfler):\n",
        "  sesli = \"a e i o u ı ö\".split()\n",
        "  if harfler.lower() in sesli:\n",
        "     return True\n",
        "  else:\n",
        "     return False\n",
        "\n"
      ],
      "metadata": {
        "id": "QIxOf_toAWdn"
      },
      "execution_count": 66,
      "outputs": []
    },
    {
      "cell_type": "code",
      "source": [
        "a = filter(sesli_bulucu, cümle)\n",
        "list(a)"
      ],
      "metadata": {
        "colab": {
          "base_uri": "https://localhost:8080/"
        },
        "id": "w8-DNgGzAWan",
        "outputId": "d97ef319-e504-4910-80ff-58f672547098"
      },
      "execution_count": 70,
      "outputs": [
        {
          "output_type": "execute_result",
          "data": {
            "text/plain": [
              "['e', 'a', 'a', 'E', 'a', 'e', 'e', 'a', 'ı', 'i', 'i', 'o']"
            ]
          },
          "metadata": {},
          "execution_count": 70
        }
      ]
    },
    {
      "cell_type": "code",
      "source": [
        "a = \"Ertan\"\n",
        "list(reversed(a))\n"
      ],
      "metadata": {
        "colab": {
          "base_uri": "https://localhost:8080/"
        },
        "id": "9J6MUeltAWX1",
        "outputId": "8e062265-7791-489e-c4ab-fa2d79e86001"
      },
      "execution_count": 81,
      "outputs": [
        {
          "output_type": "execute_result",
          "data": {
            "text/plain": [
              "['n', 'a', 't', 'r', 'E']"
            ]
          },
          "metadata": {},
          "execution_count": 81
        }
      ]
    },
    {
      "cell_type": "code",
      "source": [],
      "metadata": {
        "id": "0LjhDRbjAWVA"
      },
      "execution_count": null,
      "outputs": []
    }
  ]
}