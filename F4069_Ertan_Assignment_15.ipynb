{
  "nbformat": 4,
  "nbformat_minor": 0,
  "metadata": {
    "colab": {
      "provenance": [],
      "authorship_tag": "ABX9TyOnhO0qlUMAIEgA+ns9AL+D",
      "include_colab_link": true
    },
    "kernelspec": {
      "name": "python3",
      "display_name": "Python 3"
    },
    "language_info": {
      "name": "python"
    }
  },
  "cells": [
    {
      "cell_type": "markdown",
      "metadata": {
        "id": "view-in-github",
        "colab_type": "text"
      },
      "source": [
        "<a href=\"https://colab.research.google.com/github/F4069-Ertan/gitclass1/blob/main/F4069_Ertan_Assignment_15.ipynb\" target=\"_parent\"><img src=\"https://colab.research.google.com/assets/colab-badge.svg\" alt=\"Open In Colab\"/></a>"
      ]
    },
    {
      "cell_type": "code",
      "execution_count": null,
      "metadata": {
        "id": "fKPRbxOS4fYU"
      },
      "outputs": [],
      "source": [
        "# Task : Print the prime numbers which are between 1 to entered limit number (n).\n",
        "\n",
        "# You can use a nested for loop.\n",
        "# Collect all these numbers into a list\n",
        "# The desired output for n=100 :\n",
        "\n",
        "# [2, 3, 5, 7, 11, 13, 17, 19, 23, 29, 31, 37, 41, 43, 47, 53, 59, 61, 67, 71, 73, 79, 83, 89, 97]"
      ]
    },
    {
      "cell_type": "code",
      "source": [
        "n = int(input(\"Please enter a number to see the prime numbers before it: \"))\n",
        "sayılar1 = list(range(3, n+1))\n",
        "sayılar2 = list(range(1, n+1))\n",
        "prime_numbers = []\n",
        "bolen_sayılar = []\n",
        "count = 0\n",
        "\n",
        "for i in sayılar1:\n",
        "  for ii in sayılar2:\n",
        "    if i%ii == 0:\n",
        "      bolen_sayılar.append(ii)\n",
        "      if len(bolen_sayılar) == 2:\n",
        "        prime_numbers.append(i)\n",
        "        bolen_sayılar = []\n",
        "      \n",
        "             \n",
        "   \n",
        "print(prime_numbers)   \n",
        "    "
      ],
      "metadata": {
        "colab": {
          "base_uri": "https://localhost:8080/"
        },
        "id": "VsJt1GJx4kmk",
        "outputId": "6dde400b-6059-41c3-b2ea-7c651f32e296"
      },
      "execution_count": 15,
      "outputs": [
        {
          "output_type": "stream",
          "name": "stdout",
          "text": [
            "Please enter a number to see the prime numbers before it: 9\n",
            "[3, 4, 5, 6, 6, 7, 8, 8, 9, 9]\n"
          ]
        }
      ]
    },
    {
      "cell_type": "code",
      "source": [
        "\n",
        "\n",
        "    "
      ],
      "metadata": {
        "id": "EcP1Nrro4ks_"
      },
      "execution_count": null,
      "outputs": []
    },
    {
      "cell_type": "code",
      "source": [
        "   "
      ],
      "metadata": {
        "id": "Iv6fBk0j4kyo"
      },
      "execution_count": null,
      "outputs": []
    },
    {
      "cell_type": "code",
      "source": [],
      "metadata": {
        "id": "39Zu6TIf4k17"
      },
      "execution_count": null,
      "outputs": []
    },
    {
      "cell_type": "code",
      "source": [],
      "metadata": {
        "id": "OGbvzA6N4k4n"
      },
      "execution_count": null,
      "outputs": []
    },
    {
      "cell_type": "code",
      "source": [],
      "metadata": {
        "id": "1CiCuPHO4k7h"
      },
      "execution_count": null,
      "outputs": []
    },
    {
      "cell_type": "code",
      "source": [],
      "metadata": {
        "id": "xbMfBLvO4k-P"
      },
      "execution_count": null,
      "outputs": []
    },
    {
      "cell_type": "code",
      "source": [],
      "metadata": {
        "id": "pG9fju3n4lAv"
      },
      "execution_count": null,
      "outputs": []
    },
    {
      "cell_type": "code",
      "source": [],
      "metadata": {
        "id": "nObh8C0D4lDh"
      },
      "execution_count": null,
      "outputs": []
    },
    {
      "cell_type": "code",
      "source": [],
      "metadata": {
        "id": "TznVsTxh4lGS"
      },
      "execution_count": null,
      "outputs": []
    }
  ]
}