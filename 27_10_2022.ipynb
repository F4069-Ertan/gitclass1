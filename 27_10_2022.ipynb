{
  "nbformat": 4,
  "nbformat_minor": 0,
  "metadata": {
    "colab": {
      "provenance": [],
      "authorship_tag": "ABX9TyPSDLiSTeVZhQXYsPcWaI6p",
      "include_colab_link": true
    },
    "kernelspec": {
      "name": "python3",
      "display_name": "Python 3"
    },
    "language_info": {
      "name": "python"
    }
  },
  "cells": [
    {
      "cell_type": "markdown",
      "metadata": {
        "id": "view-in-github",
        "colab_type": "text"
      },
      "source": [
        "<a href=\"https://colab.research.google.com/github/F4069-Ertan/gitclass1/blob/main/27_10_2022.ipynb\" target=\"_parent\"><img src=\"https://colab.research.google.com/assets/colab-badge.svg\" alt=\"Open In Colab\"/></a>"
      ]
    },
    {
      "cell_type": "code",
      "execution_count": null,
      "metadata": {
        "id": "7mfebnL1bULZ"
      },
      "outputs": [],
      "source": []
    },
    {
      "cell_type": "markdown",
      "source": [],
      "metadata": {
        "id": "GTlWhy5jbXL2"
      }
    },
    {
      "cell_type": "code",
      "source": [
        "1 == 1\n"
      ],
      "metadata": {
        "colab": {
          "base_uri": "https://localhost:8080/"
        },
        "id": "Znu-2CHIbYDZ",
        "outputId": "ef8fe052-4976-4310-86fe-8d7648d5cb88"
      },
      "execution_count": 1,
      "outputs": [
        {
          "output_type": "execute_result",
          "data": {
            "text/plain": [
              "True"
            ]
          },
          "metadata": {},
          "execution_count": 1
        }
      ]
    },
    {
      "cell_type": "code",
      "source": [
        "3 <= 3"
      ],
      "metadata": {
        "colab": {
          "base_uri": "https://localhost:8080/"
        },
        "id": "gcs4U3APbYLY",
        "outputId": "9bfc0996-e0f3-4b71-bcb6-a51218b6ccf5"
      },
      "execution_count": 3,
      "outputs": [
        {
          "output_type": "execute_result",
          "data": {
            "text/plain": [
              "True"
            ]
          },
          "metadata": {},
          "execution_count": 3
        }
      ]
    },
    {
      "cell_type": "code",
      "source": [
        "3 >= 2"
      ],
      "metadata": {
        "colab": {
          "base_uri": "https://localhost:8080/"
        },
        "id": "mwz_t9IPbYQX",
        "outputId": "97c26eac-780a-4489-d395-014f87c1d776"
      },
      "execution_count": 4,
      "outputs": [
        {
          "output_type": "execute_result",
          "data": {
            "text/plain": [
              "True"
            ]
          },
          "metadata": {},
          "execution_count": 4
        }
      ]
    },
    {
      "cell_type": "code",
      "source": [
        "if \"ali\" != \"deli\":\n",
        "  print(\"Ali ile deli hiç aynı olur mu len...\")"
      ],
      "metadata": {
        "colab": {
          "base_uri": "https://localhost:8080/"
        },
        "id": "f-scqcjHbYS8",
        "outputId": "8ea72b4d-0516-4c18-ebcf-464e65f0d5eb"
      },
      "execution_count": 5,
      "outputs": [
        {
          "output_type": "stream",
          "name": "stdout",
          "text": [
            "Ali ile deli hiç aynı olur mu len...\n"
          ]
        }
      ]
    },
    {
      "cell_type": "code",
      "source": [
        "a = set(\"TWELVE PLUS ONE\")\n",
        "b = set(\"ELEVEN PLUS TWO\")\n",
        "if a == b:\n",
        "  print(\"We are the same!\")"
      ],
      "metadata": {
        "colab": {
          "base_uri": "https://localhost:8080/"
        },
        "id": "w7XftqOSbYVU",
        "outputId": "d86edd5c-388b-4b6b-91eb-9123e1049338"
      },
      "execution_count": 7,
      "outputs": [
        {
          "output_type": "stream",
          "name": "stdout",
          "text": [
            "We are the same!\n"
          ]
        }
      ]
    },
    {
      "cell_type": "code",
      "source": [
        "a = input(\"İnsan mısınız? \").lower()\n",
        "\n",
        "if a == \"yes\":\n",
        "  print(\"You entered True..\")\n"
      ],
      "metadata": {
        "colab": {
          "base_uri": "https://localhost:8080/"
        },
        "id": "RvT5HnzybYYD",
        "outputId": "3d743b48-085e-4e15-84e3-4e6f6b1e9ab5"
      },
      "execution_count": 14,
      "outputs": [
        {
          "output_type": "stream",
          "name": "stdout",
          "text": [
            "İnsan mısınız? yES\n",
            "You entered True..\n"
          ]
        }
      ]
    },
    {
      "cell_type": "code",
      "source": [
        "if condition:\n",
        "  body 1\n",
        "else:\n",
        "  body 2 # iki kod bloğundan birini çalıştıracak\n"
      ],
      "metadata": {
        "id": "V-s3setubYa2"
      },
      "execution_count": null,
      "outputs": []
    },
    {
      "cell_type": "code",
      "source": [
        "x = 5\n",
        "if x >= 6:\n",
        "  print(\"hello\")\n",
        "else:\n",
        "  print(\"world!\")"
      ],
      "metadata": {
        "colab": {
          "base_uri": "https://localhost:8080/"
        },
        "id": "VgMq_aOvbYdd",
        "outputId": "ac12b619-3ac4-4597-9aad-6ae31ac0c671"
      },
      "execution_count": 16,
      "outputs": [
        {
          "output_type": "stream",
          "name": "stdout",
          "text": [
            "world!\n"
          ]
        }
      ]
    },
    {
      "cell_type": "code",
      "source": [
        "y = list(range(1, 10))\n",
        "y"
      ],
      "metadata": {
        "colab": {
          "base_uri": "https://localhost:8080/"
        },
        "id": "bf4X8vwdbYgW",
        "outputId": "43e7e8e1-398a-4f5e-9b04-b398ea46faa6"
      },
      "execution_count": 18,
      "outputs": [
        {
          "output_type": "execute_result",
          "data": {
            "text/plain": [
              "[1, 2, 3, 4, 5, 6, 7, 8, 9]"
            ]
          },
          "metadata": {},
          "execution_count": 18
        }
      ]
    },
    {
      "cell_type": "code",
      "source": [
        "if 10 in y :\n",
        "  print(\"hello\")\n",
        "else :\n",
        "  print(\"world!\")"
      ],
      "metadata": {
        "colab": {
          "base_uri": "https://localhost:8080/"
        },
        "id": "Lpgn0gCxbYi2",
        "outputId": "6982d249-87be-47fc-fab1-4363c62fc844"
      },
      "execution_count": 19,
      "outputs": [
        {
          "output_type": "stream",
          "name": "stdout",
          "text": [
            "world!\n"
          ]
        }
      ]
    },
    {
      "cell_type": "code",
      "source": [
        "b = int(input(\"Please enter a number: \")) % 2\n",
        "if b == 0:\n",
        "  print(\"The number is even\")\n",
        "else :\n",
        "  print(\"The number is odd\")"
      ],
      "metadata": {
        "colab": {
          "base_uri": "https://localhost:8080/"
        },
        "id": "kocj3LeMbYlt",
        "outputId": "f0fa9f9f-9404-4b05-aa21-ddd5f8e27916"
      },
      "execution_count": 21,
      "outputs": [
        {
          "output_type": "stream",
          "name": "stdout",
          "text": [
            "Please enter a number: 10\n",
            "The number is even\n"
          ]
        }
      ]
    },
    {
      "cell_type": "code",
      "source": [],
      "metadata": {
        "id": "M6WL11tgbYnW"
      },
      "execution_count": null,
      "outputs": []
    },
    {
      "cell_type": "code",
      "source": [
        "b = int(input(\"Please enter a number: \"))\n",
        "if b > 0:\n",
        "  print(f\"{} is positive\", b)\n",
        "else :\n",
        "  print(f\"{} is negative\", b)"
      ],
      "metadata": {
        "colab": {
          "base_uri": "https://localhost:8080/",
          "height": 135
        },
        "id": "Qe-FgUCEbYqY",
        "outputId": "ee9653e1-001b-4d69-b535-05804a461048"
      },
      "execution_count": 25,
      "outputs": [
        {
          "output_type": "error",
          "ename": "SyntaxError",
          "evalue": "ignored",
          "traceback": [
            "\u001b[0;36m  File \u001b[0;32m\"<ipython-input-25-f94f2d539603>\"\u001b[0;36m, line \u001b[0;32m3\u001b[0m\n\u001b[0;31m    print(f\"{} is positive\", b)\u001b[0m\n\u001b[0m         ^\u001b[0m\n\u001b[0;31mSyntaxError\u001b[0m\u001b[0;31m:\u001b[0m f-string: empty expression not allowed\n"
          ]
        }
      ]
    },
    {
      "cell_type": "code",
      "source": [
        "a = int(input(\"Lütfen ilk sayıyı giriniz: \"))\n",
        "b = int(input(\"Lütfen ikinci sayıyı girin: \"))\n",
        "if a > b:\n",
        "  print(\"The large number is: {}\".format(a))\n",
        "else :\n",
        "  print(\"The large number is: {}\".format(b))"
      ],
      "metadata": {
        "colab": {
          "base_uri": "https://localhost:8080/"
        },
        "id": "Jj1CPZ5KbYtA",
        "outputId": "e8fa19ed-e405-4d9f-9477-eaaf10d2b83f"
      },
      "execution_count": 26,
      "outputs": [
        {
          "output_type": "stream",
          "name": "stdout",
          "text": [
            "Lütfen ilk sayıyı giriniz: 10\n",
            "Lütfen ikinci sayıyı girin: 9\n",
            "The large number is: 10\n"
          ]
        }
      ]
    },
    {
      "cell_type": "code",
      "source": [
        "bool_value = False\n",
        "\n",
        "if bool_value:\n",
        "  bool_value = \"YES\"\n",
        "else :\n",
        "  bool_value = \"NO\"\n",
        "print(bool_value)\n"
      ],
      "metadata": {
        "colab": {
          "base_uri": "https://localhost:8080/"
        },
        "id": "oFLjeanqbYvm",
        "outputId": "4aa1b387-4622-4191-e26e-6bc965fd8d49"
      },
      "execution_count": 28,
      "outputs": [
        {
          "output_type": "stream",
          "name": "stdout",
          "text": [
            "NO\n"
          ]
        }
      ]
    },
    {
      "cell_type": "code",
      "source": [
        "a = int(input(\"Lütfen ilk sayıyı giriniz: \"))\n",
        "b = int(input(\"Lütfen ikinci sayıyı girin: \"))\n",
        "c = int(input(\"Lütfen üçüncü sayıyı giriniz: \"))\n",
        "\n",
        "if a > b and c :\n",
        "  largest = a\n",
        "elif b > c and a :\n",
        "  largest = b\n",
        "elif c > a and b :\n",
        "  largest = c\n",
        "print(largest)\n"
      ],
      "metadata": {
        "colab": {
          "base_uri": "https://localhost:8080/"
        },
        "id": "hYBtB_EkbYye",
        "outputId": "f9125429-5579-4d2a-9ad3-fc643372b21e"
      },
      "execution_count": 31,
      "outputs": [
        {
          "output_type": "stream",
          "name": "stdout",
          "text": [
            "Lütfen ilk sayıyı giriniz: 17\n",
            "Lütfen ikinci sayıyı girin: 9\n",
            "Lütfen üçüncü sayıyı giriniz: 7\n",
            "17\n"
          ]
        }
      ]
    },
    {
      "cell_type": "code",
      "source": [
        "x = int(input(\"Lütfen bir sayı giriniz: \"))\n",
        "if x > 0:\n",
        "  print(f\"{x} pozitif\")\n",
        "elif x == 0 :\n",
        "  print(f\"{x} sıfırdır\")\n",
        "else:\n",
        "  print(f\"{x} negatifdir\")"
      ],
      "metadata": {
        "colab": {
          "base_uri": "https://localhost:8080/"
        },
        "id": "okTLsjlxbY1I",
        "outputId": "f8a32960-1b35-4dfe-c823-962bc62669a4"
      },
      "execution_count": 35,
      "outputs": [
        {
          "output_type": "stream",
          "name": "stdout",
          "text": [
            "Lütfen bir sayı giriniz: 13\n",
            "13 pozitif\n"
          ]
        }
      ]
    },
    {
      "cell_type": "code",
      "source": [
        "not = int(input(\"Enter your exam score:\"))\n",
        "if 100 > not >= 95:\n",
        "  print(f\"Your score in letter is A\")\n",
        "elif 95 > not >= 90: \n",
        "  print(f\"Your score in letter is: B\")\n",
        "elif 95 > not >= 90: \n",
        "  print(f\"Your score in letter is: B\")\n",
        "elif 95 > not >= 90: \n",
        "  print(f\"Your score in letter is: B\")\n",
        "elif 95 > not >= 90: \n",
        "  print(f\"Your score in letter is: B\")"
      ],
      "metadata": {
        "id": "yZItu-4gbY32"
      },
      "execution_count": null,
      "outputs": []
    },
    {
      "cell_type": "code",
      "source": [],
      "metadata": {
        "id": "UBECfOWrbY6C"
      },
      "execution_count": null,
      "outputs": []
    }
  ]
}