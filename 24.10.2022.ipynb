{
  "nbformat": 4,
  "nbformat_minor": 0,
  "metadata": {
    "colab": {
      "provenance": [],
      "authorship_tag": "ABX9TyMeHvMWqdysCnNrGdHK4l0y",
      "include_colab_link": true
    },
    "kernelspec": {
      "name": "python3",
      "display_name": "Python 3"
    },
    "language_info": {
      "name": "python"
    }
  },
  "cells": [
    {
      "cell_type": "markdown",
      "metadata": {
        "id": "view-in-github",
        "colab_type": "text"
      },
      "source": [
        "<a href=\"https://colab.research.google.com/github/F4069-Ertan/gitclass1/blob/main/24.10.2022.ipynb\" target=\"_parent\"><img src=\"https://colab.research.google.com/assets/colab-badge.svg\" alt=\"Open In Colab\"/></a>"
      ]
    },
    {
      "cell_type": "code",
      "execution_count": null,
      "metadata": {
        "id": "64O_Wa3B4B8p"
      },
      "outputs": [],
      "source": []
    },
    {
      "cell_type": "code",
      "source": [
        "listem = [\"a\", \"b\", \"c\", \"ç\", \"d\"]\n",
        "yeni_listem = listem[:]\n",
        "yeni_listem.reverse()\n",
        "print(\"ben değiştim :\", yeni_listem)\n",
        "print(\"ben aynı kaldım :\", listem)"
      ],
      "metadata": {
        "colab": {
          "base_uri": "https://localhost:8080/"
        },
        "id": "l9Ts9YFj4EWb",
        "outputId": "de346766-de6b-457e-f53b-cb57363247dc"
      },
      "execution_count": 1,
      "outputs": [
        {
          "output_type": "stream",
          "name": "stdout",
          "text": [
            "ben değiştim : ['d', 'ç', 'c', 'b', 'a']\n",
            "ben aynı kaldım : ['a', 'b', 'c', 'ç', 'd']\n"
          ]
        }
      ]
    },
    {
      "cell_type": "code",
      "source": [
        "ayakkabı_sayısı = {\"ali\" : 1,\n",
        "                   \"deli\" : 1,\n",
        "                   \"veli\" : 1\n",
        "                   }\n",
        "\n",
        "ayakkabı_sayısı[\"ali\"]"
      ],
      "metadata": {
        "colab": {
          "base_uri": "https://localhost:8080/"
        },
        "id": "woDcdTUH4ETo",
        "outputId": "c00b019c-94c7-4284-b6fc-6733bd4fe848"
      },
      "execution_count": 6,
      "outputs": [
        {
          "output_type": "stream",
          "name": "stdout",
          "text": [
            "{'ali': 1, 'deli': 1, 'veli': 1}\n"
          ]
        },
        {
          "output_type": "execute_result",
          "data": {
            "text/plain": [
              "1"
            ]
          },
          "metadata": {},
          "execution_count": 6
        }
      ]
    },
    {
      "cell_type": "code",
      "source": [
        "ayakkabı_sayısı[\"ali\"] += 1\n",
        "print(ayakkabı_sayısı[\"ali\"])\n",
        "print(ayakkabı_sayısı)"
      ],
      "metadata": {
        "colab": {
          "base_uri": "https://localhost:8080/"
        },
        "id": "4xBNgn6v4EQy",
        "outputId": "b5398227-ce03-44f8-dfcd-076f1bb73aa5"
      },
      "execution_count": 10,
      "outputs": [
        {
          "output_type": "stream",
          "name": "stdout",
          "text": [
            "5\n",
            "{'ali': 5, 'deli': 1, 'veli': 1}\n"
          ]
        }
      ]
    },
    {
      "cell_type": "code",
      "source": [
        "dict_by_dict = dict(animal = \"dog\", planet = \"neptun\", number = 40, pi = 3.14, is_good = True)\n",
        "dict_by_dict"
      ],
      "metadata": {
        "colab": {
          "base_uri": "https://localhost:8080/"
        },
        "id": "M4hIZBQl4EOK",
        "outputId": "46a2d13d-f9f8-45e1-cfb7-52dcffe15184"
      },
      "execution_count": 11,
      "outputs": [
        {
          "output_type": "execute_result",
          "data": {
            "text/plain": [
              "{'animal': 'dog',\n",
              " 'planet': 'neptun',\n",
              " 'number': 40,\n",
              " 'pi': 3.14,\n",
              " 'is_good': True}"
            ]
          },
          "metadata": {},
          "execution_count": 11
        }
      ]
    },
    {
      "cell_type": "code",
      "source": [
        "dict_by_dict[\"animal\"]"
      ],
      "metadata": {
        "colab": {
          "base_uri": "https://localhost:8080/",
          "height": 35
        },
        "id": "hvJ0jzaL4ELY",
        "outputId": "4861abcf-aa35-420a-9cb5-e70a6121dad8"
      },
      "execution_count": 13,
      "outputs": [
        {
          "output_type": "execute_result",
          "data": {
            "text/plain": [
              "'dog'"
            ],
            "application/vnd.google.colaboratory.intrinsic+json": {
              "type": "string"
            }
          },
          "metadata": {},
          "execution_count": 13
        }
      ]
    },
    {
      "cell_type": "code",
      "source": [
        "dict_by_dict.update({\"nazlı\" : \"bayan\"})\n",
        "print(dict_by_dict)\n"
      ],
      "metadata": {
        "colab": {
          "base_uri": "https://localhost:8080/"
        },
        "id": "NZ5fA2Co4EIh",
        "outputId": "0e52efd2-797e-4334-f53f-df517dbbe3f5"
      },
      "execution_count": 14,
      "outputs": [
        {
          "output_type": "stream",
          "name": "stdout",
          "text": [
            "{'animal': 'dog', 'planet': 'neptun', 'number': 40, 'pi': 3.14, 'is_good': True, 'nazlı': 'bayan'}\n"
          ]
        }
      ]
    },
    {
      "cell_type": "code",
      "source": [
        "type(dict_by_dict.items())"
      ],
      "metadata": {
        "colab": {
          "base_uri": "https://localhost:8080/"
        },
        "id": "wQqVkFsl4EGC",
        "outputId": "8d9b6083-1379-4c22-8937-808b423ff929"
      },
      "execution_count": 16,
      "outputs": [
        {
          "output_type": "execute_result",
          "data": {
            "text/plain": [
              "dict_items"
            ]
          },
          "metadata": {},
          "execution_count": 16
        }
      ]
    },
    {
      "cell_type": "code",
      "source": [
        "len((dict_by_dict.items()))"
      ],
      "metadata": {
        "colab": {
          "base_uri": "https://localhost:8080/"
        },
        "id": "P6r9iOSa4ECy",
        "outputId": "ef3daf52-29f5-4c19-d568-611a51a5c246"
      },
      "execution_count": 17,
      "outputs": [
        {
          "output_type": "execute_result",
          "data": {
            "text/plain": [
              "6"
            ]
          },
          "metadata": {},
          "execution_count": 17
        }
      ]
    },
    {
      "cell_type": "code",
      "source": [
        "list(dict_by_dict.items())"
      ],
      "metadata": {
        "colab": {
          "base_uri": "https://localhost:8080/"
        },
        "id": "htZTipBc4EAU",
        "outputId": "c412f3f4-fb10-43cd-fb92-f2faef7003c3"
      },
      "execution_count": 20,
      "outputs": [
        {
          "output_type": "execute_result",
          "data": {
            "text/plain": [
              "[('animal', 'dog'),\n",
              " ('planet', 'neptun'),\n",
              " ('number', 40),\n",
              " ('pi', 3.14),\n",
              " ('is_good', True),\n",
              " ('nazlı', 'bayan')]"
            ]
          },
          "metadata": {},
          "execution_count": 20
        }
      ]
    },
    {
      "cell_type": "code",
      "source": [
        "tuple(dict_by_dict.keys())"
      ],
      "metadata": {
        "colab": {
          "base_uri": "https://localhost:8080/"
        },
        "id": "p2pRyWn14D9Y",
        "outputId": "1692f5ad-36d5-40d2-a265-cdd3a88a3ffe"
      },
      "execution_count": 22,
      "outputs": [
        {
          "output_type": "execute_result",
          "data": {
            "text/plain": [
              "('animal', 'planet', 'number', 'pi', 'is_good', 'nazlı')"
            ]
          },
          "metadata": {},
          "execution_count": 22
        }
      ]
    },
    {
      "cell_type": "code",
      "source": [
        "type(dict_by_dict.keys())"
      ],
      "metadata": {
        "colab": {
          "base_uri": "https://localhost:8080/"
        },
        "id": "ZUuGwsXz4D6p",
        "outputId": "601f4cf6-6c79-42bf-9d27-4b0391c80392"
      },
      "execution_count": 24,
      "outputs": [
        {
          "output_type": "execute_result",
          "data": {
            "text/plain": [
              "dict_keys"
            ]
          },
          "metadata": {},
          "execution_count": 24
        }
      ]
    },
    {
      "cell_type": "code",
      "source": [
        "dict_by_dict = {\"animal\" : \"dog\", \n",
        "                \"planet\" : \"neptun\", \n",
        "                \"number\" : 40, \n",
        "                \"pi\" : 3.14, \n",
        "                \"is_good\" : True}\n",
        "print(dict_by_dict.items())\n",
        "print(dict_by_dict.keys())\n",
        "print(dict_by_dict.values())"
      ],
      "metadata": {
        "colab": {
          "base_uri": "https://localhost:8080/"
        },
        "id": "Qz8MBni94D36",
        "outputId": "e5538b68-14fc-4462-fa67-45e4b7583e1b"
      },
      "execution_count": 26,
      "outputs": [
        {
          "output_type": "stream",
          "name": "stdout",
          "text": [
            "dict_items([('animal', 'dog'), ('planet', 'neptun'), ('number', 40), ('pi', 3.14), ('is_good', True)])\n",
            "dict_keys(['animal', 'planet', 'number', 'pi', 'is_good'])\n",
            "dict_values(['dog', 'neptun', 40, 3.14, True])\n"
          ]
        }
      ]
    },
    {
      "cell_type": "code",
      "source": [
        "dict_by_dict.items()"
      ],
      "metadata": {
        "colab": {
          "base_uri": "https://localhost:8080/"
        },
        "id": "ZZZcgUZJ4Dx9",
        "outputId": "8a76062d-b3fa-4572-c504-57dbc5f86acb"
      },
      "execution_count": 35,
      "outputs": [
        {
          "output_type": "execute_result",
          "data": {
            "text/plain": [
              "dict_items([('animal', 'dog'), ('planet', 'neptun'), ('number', 40), ('pi', 3.14), ('is_good', True)])"
            ]
          },
          "metadata": {},
          "execution_count": 35
        }
      ]
    },
    {
      "cell_type": "code",
      "source": [
        "liste = list(dict_by_dict.items())\n",
        "x, y = liste[0]\n",
        "x"
      ],
      "metadata": {
        "colab": {
          "base_uri": "https://localhost:8080/",
          "height": 35
        },
        "id": "hYdtVF65Nz2v",
        "outputId": "51d6b21a-ddf2-4eb3-c083-73d4151725b7"
      },
      "execution_count": 40,
      "outputs": [
        {
          "output_type": "execute_result",
          "data": {
            "text/plain": [
              "'animal'"
            ],
            "application/vnd.google.colaboratory.intrinsic+json": {
              "type": "string"
            }
          },
          "metadata": {},
          "execution_count": 40
        }
      ]
    },
    {
      "cell_type": "code",
      "source": [
        "dict_by_dict.update({\"planet\" : \"Saturn\"})\n",
        "print(dict_by_dict)"
      ],
      "metadata": {
        "colab": {
          "base_uri": "https://localhost:8080/"
        },
        "id": "sQ0CWrK3Nz5b",
        "outputId": "0a94bef9-762b-4d5f-f53e-ea6c5475894c"
      },
      "execution_count": 45,
      "outputs": [
        {
          "output_type": "stream",
          "name": "stdout",
          "text": [
            "{'animal': 'dog', 'planet': 'Saturn', 'number': 40, 'is_good': True}\n"
          ]
        }
      ]
    },
    {
      "cell_type": "code",
      "source": [
        "school_records={\n",
        "    \"personal_info\":{\n",
        "        \"kid\":{\"tom\":{\"class\": \"intermediate\", \"age\": 10},\n",
        "               \"sue\":{\"class\": \"elemantary\", \"age\" : 8}\n",
        "              },\n",
        "        \"teen\":{\"joseph\":{\"class\": \"college\", \"age\": 19},\n",
        "               \"marry\": {\"class\": \"high school\", \"age\": 16}\n",
        "               },\n",
        "    },\n",
        "     \"grades_info\":{\n",
        "        \"kid\":{\"tom\": {\"math\": 88, \"speech\": 69},\n",
        "          \"sue\": {\"math\": 76, \"speech\": 89}\n",
        "          },\n",
        "        \"teen\":{\"joseph\": {\"coding\": 80, \"math\": 74},\n",
        "            \"marry\": {\"coding\": 45, \"math\": 90}},\n",
        "    },\n",
        "}\n",
        "print(school_records[\"personal_info\"][\"kid\"][\"sue\"][\"age\"])"
      ],
      "metadata": {
        "colab": {
          "base_uri": "https://localhost:8080/"
        },
        "id": "CXRZ9gbnNz-z",
        "outputId": "1e59f82c-679a-41fd-e948-49625503a139"
      },
      "execution_count": 54,
      "outputs": [
        {
          "output_type": "stream",
          "name": "stdout",
          "text": [
            "8\n"
          ]
        }
      ]
    },
    {
      "cell_type": "code",
      "source": [],
      "metadata": {
        "id": "P_u-MBCyN0Bx"
      },
      "execution_count": null,
      "outputs": []
    },
    {
      "cell_type": "code",
      "source": [],
      "metadata": {
        "id": "zjOEXqZ-N0Ef"
      },
      "execution_count": null,
      "outputs": []
    },
    {
      "cell_type": "code",
      "source": [],
      "metadata": {
        "id": "g4lBB_brN0HU"
      },
      "execution_count": null,
      "outputs": []
    },
    {
      "cell_type": "code",
      "source": [],
      "metadata": {
        "id": "C5AOipiWN0Kc"
      },
      "execution_count": null,
      "outputs": []
    },
    {
      "cell_type": "code",
      "source": [],
      "metadata": {
        "id": "pkLVkm6SN0NK"
      },
      "execution_count": null,
      "outputs": []
    },
    {
      "cell_type": "code",
      "source": [],
      "metadata": {
        "id": "ysplP8iYN0Pz"
      },
      "execution_count": null,
      "outputs": []
    },
    {
      "cell_type": "code",
      "source": [],
      "metadata": {
        "id": "TZJO-3JmN0Sj"
      },
      "execution_count": null,
      "outputs": []
    },
    {
      "cell_type": "code",
      "source": [],
      "metadata": {
        "id": "7gF5qf5PN0Uw"
      },
      "execution_count": null,
      "outputs": []
    }
  ]
}