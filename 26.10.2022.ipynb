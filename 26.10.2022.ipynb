{
  "nbformat": 4,
  "nbformat_minor": 0,
  "metadata": {
    "colab": {
      "provenance": [],
      "authorship_tag": "ABX9TyPSSaFAs8w+OSfY0Vh3xCo3",
      "include_colab_link": true
    },
    "kernelspec": {
      "name": "python3",
      "display_name": "Python 3"
    },
    "language_info": {
      "name": "python"
    }
  },
  "cells": [
    {
      "cell_type": "markdown",
      "metadata": {
        "id": "view-in-github",
        "colab_type": "text"
      },
      "source": [
        "<a href=\"https://colab.research.google.com/github/F4069-Ertan/gitclass1/blob/main/26.10.2022.ipynb\" target=\"_parent\"><img src=\"https://colab.research.google.com/assets/colab-badge.svg\" alt=\"Open In Colab\"/></a>"
      ]
    },
    {
      "cell_type": "code",
      "source": [
        "favourite={\n",
        "    \"friends\": {\n",
        "        \"friend1\": {\"first\": \"Reşat\", \"last\": \"Nuri\"}, \n",
        "        \"friend2\": {\"first\": \"Orhan\", \"last\": \"Kemal\"}\n",
        "    },\n",
        "    \"family\": {\n",
        "        \"family1\": {\"first\": \"Ertan\", \"last\": \"Kaplan\"},\n",
        "        \"family2\": {\"first\": \"Züleyha\", \"last\": \"Kaplan\"},\n",
        "        \"family3\": {\"first\": \"Orhan\", \"last\": \"Kaplan\"},\n",
        "        \"family4\": {\"first\": \"Vildan\", \"last\": \"Kaplan\"}\n",
        "    }   \n",
        "}"
      ],
      "metadata": {
        "id": "p2YFXrMWRCAh"
      },
      "execution_count": null,
      "outputs": []
    },
    {
      "cell_type": "code",
      "source": [
        "a = set((1, 2, 3))\n",
        "\n",
        "print(a)"
      ],
      "metadata": {
        "colab": {
          "base_uri": "https://localhost:8080/"
        },
        "id": "UguID8DVRB-J",
        "outputId": "b195f062-c4f5-42e3-d82a-6511451c66a0"
      },
      "execution_count": 7,
      "outputs": [
        {
          "output_type": "stream",
          "name": "stdout",
          "text": [
            "{1, 2, 3}\n"
          ]
        }
      ]
    },
    {
      "cell_type": "code",
      "source": [
        "colors = \"red\", \"blue\", \"pink\", \"red\", \"white\", \"blue\", \"purple\"\n",
        "set(colors)\n"
      ],
      "metadata": {
        "colab": {
          "base_uri": "https://localhost:8080/"
        },
        "id": "7pQaydrjRB7s",
        "outputId": "c14c4c20-36f9-4d13-c365-b423b8f89ffb"
      },
      "execution_count": 8,
      "outputs": [
        {
          "output_type": "execute_result",
          "data": {
            "text/plain": [
              "{'blue', 'pink', 'purple', 'red', 'white'}"
            ]
          },
          "metadata": {},
          "execution_count": 8
        }
      ]
    },
    {
      "cell_type": "code",
      "source": [
        "ilk_kümem = {1, 1, 2, 0, 1}\n",
        "len(ilk_kümem)"
      ],
      "metadata": {
        "colab": {
          "base_uri": "https://localhost:8080/"
        },
        "id": "fLCThnQDRB5J",
        "outputId": "210a1bb7-dd15-4050-c900-2fe361f9d950"
      },
      "execution_count": 10,
      "outputs": [
        {
          "output_type": "execute_result",
          "data": {
            "text/plain": [
              "3"
            ]
          },
          "metadata": {},
          "execution_count": 10
        }
      ]
    },
    {
      "cell_type": "code",
      "source": [
        "letters = \"a b c d e f g h ı i j k l m n o ö p r s ş t u ü v y z\".split()\n",
        "print(set(letters))"
      ],
      "metadata": {
        "colab": {
          "base_uri": "https://localhost:8080/"
        },
        "id": "VYKVY4nHRB2d",
        "outputId": "21fad112-113e-46df-ea1a-e99fc5d5a0f8"
      },
      "execution_count": 1,
      "outputs": [
        {
          "output_type": "stream",
          "name": "stdout",
          "text": [
            "{'e', 'r', 't', 'y', 'ı', 's', 'a', 'v', 'c', 'j', 'ş', 'ü', 'm', 'f', 'o', 'k', 'ö', 'h', 'u', 'z', 'l', 'i', 'd', 'n', 'p', 'g', 'b'}\n"
          ]
        }
      ]
    },
    {
      "cell_type": "code",
      "source": [
        "şöyle_birşey = {1, \"bir\", 1.0}"
      ],
      "metadata": {
        "id": "PalaTtGTRBy6"
      },
      "execution_count": null,
      "outputs": []
    },
    {
      "cell_type": "code",
      "source": [
        "given_list = [1, 2, 3, 4, 5]"
      ],
      "metadata": {
        "id": "x7DaVFZyRBwI"
      },
      "execution_count": null,
      "outputs": []
    },
    {
      "cell_type": "code",
      "execution_count": 2,
      "metadata": {
        "colab": {
          "base_uri": "https://localhost:8080/"
        },
        "id": "73y0DtggQx-B",
        "outputId": "37349c7b-3493-4650-b7b3-ed342812b38e"
      },
      "outputs": [
        {
          "output_type": "execute_result",
          "data": {
            "text/plain": [
              "{'carnation', 'orchid', 'rose', 'violet'}"
            ]
          },
          "metadata": {},
          "execution_count": 2
        }
      ],
      "source": [
        "a = {'carnation', 'orchid', 'rose', 'violet'}\n",
        "b = {'rose', 'orchid', 'rose', 'violet', 'carnation'}\n",
        "a"
      ]
    },
    {
      "cell_type": "code",
      "source": [
        "b"
      ],
      "metadata": {
        "colab": {
          "base_uri": "https://localhost:8080/"
        },
        "id": "a_IyYdCKg7GE",
        "outputId": "a64b5fbc-777d-4da1-f811-b403264c91d0"
      },
      "execution_count": 3,
      "outputs": [
        {
          "output_type": "execute_result",
          "data": {
            "text/plain": [
              "{'carnation', 'orchid', 'rose', 'violet'}"
            ]
          },
          "metadata": {},
          "execution_count": 3
        }
      ]
    },
    {
      "cell_type": "code",
      "source": [
        "a"
      ],
      "metadata": {
        "colab": {
          "base_uri": "https://localhost:8080/"
        },
        "id": "Y_PGDf_qg7Dq",
        "outputId": "f6de38fa-3a59-4643-f533-6494bd60e0c9"
      },
      "execution_count": 4,
      "outputs": [
        {
          "output_type": "execute_result",
          "data": {
            "text/plain": [
              "{'carnation', 'orchid', 'rose', 'violet'}"
            ]
          },
          "metadata": {},
          "execution_count": 4
        }
      ]
    },
    {
      "cell_type": "code",
      "source": [
        "a.add(\"lily\")\n",
        "a"
      ],
      "metadata": {
        "colab": {
          "base_uri": "https://localhost:8080/"
        },
        "id": "PX5DDqEFg7BD",
        "outputId": "8ec25847-358a-4b7e-9db4-8e48501f4255"
      },
      "execution_count": 6,
      "outputs": [
        {
          "output_type": "execute_result",
          "data": {
            "text/plain": [
              "{'carnation', 'lily', 'orchid', 'rose', 'violet'}"
            ]
          },
          "metadata": {},
          "execution_count": 6
        }
      ]
    },
    {
      "cell_type": "code",
      "source": [
        "a.remove(\"rose\")\n",
        "a"
      ],
      "metadata": {
        "colab": {
          "base_uri": "https://localhost:8080/"
        },
        "id": "yNp98TqDg6-x",
        "outputId": "bdea732d-f21b-4af2-dc5e-d03db87e8e19"
      },
      "execution_count": 7,
      "outputs": [
        {
          "output_type": "execute_result",
          "data": {
            "text/plain": [
              "{'carnation', 'lily', 'orchid', 'violet'}"
            ]
          },
          "metadata": {},
          "execution_count": 7
        }
      ]
    },
    {
      "cell_type": "code",
      "source": [
        "ı = set(\"ErtanAslan\")\n",
        "ı"
      ],
      "metadata": {
        "colab": {
          "base_uri": "https://localhost:8080/"
        },
        "id": "IbZmoU5vg67z",
        "outputId": "dc1d753d-62ea-48a8-bd7c-508e962810dc"
      },
      "execution_count": 8,
      "outputs": [
        {
          "output_type": "execute_result",
          "data": {
            "text/plain": [
              "{'A', 'E', 'a', 'l', 'n', 'r', 's', 't'}"
            ]
          },
          "metadata": {},
          "execution_count": 8
        }
      ]
    },
    {
      "cell_type": "code",
      "source": [
        "date1 = set(\"10/26/2022\")\n",
        "date2 = {\"10/26/2022\"} "
      ],
      "metadata": {
        "id": "R6d9ADDWhyYf"
      },
      "execution_count": 9,
      "outputs": []
    },
    {
      "cell_type": "code",
      "source": [
        "date1"
      ],
      "metadata": {
        "colab": {
          "base_uri": "https://localhost:8080/"
        },
        "id": "79KXZYcAhybE",
        "outputId": "6ec0f374-3c09-4e47-fdd0-4883b39d2076"
      },
      "execution_count": 10,
      "outputs": [
        {
          "output_type": "execute_result",
          "data": {
            "text/plain": [
              "{'/', '0', '1', '2', '6'}"
            ]
          },
          "metadata": {},
          "execution_count": 10
        }
      ]
    },
    {
      "cell_type": "code",
      "source": [
        "date2"
      ],
      "metadata": {
        "colab": {
          "base_uri": "https://localhost:8080/"
        },
        "id": "ZIu3qequhydj",
        "outputId": "64af7399-9ac6-4e4c-c675-0fba97cceea6"
      },
      "execution_count": 11,
      "outputs": [
        {
          "output_type": "execute_result",
          "data": {
            "text/plain": [
              "{'10/26/2022'}"
            ]
          },
          "metadata": {},
          "execution_count": 11
        }
      ]
    },
    {
      "cell_type": "code",
      "source": [
        "date1 = set('05/21/2022')\n",
        "date2 = {'05/21/2022'}\n",
        "print(date1)\n",
        "print(date2)"
      ],
      "metadata": {
        "colab": {
          "base_uri": "https://localhost:8080/"
        },
        "id": "dzj5eq_ehygF",
        "outputId": "334921b7-e871-4ea3-db01-c2a600122ba8"
      },
      "execution_count": 12,
      "outputs": [
        {
          "output_type": "stream",
          "name": "stdout",
          "text": [
            "{'/', '0', '2', '1', '5'}\n",
            "{'05/21/2022'}\n"
          ]
        }
      ]
    },
    {
      "cell_type": "code",
      "source": [],
      "metadata": {
        "id": "4UDM6R2whyiq"
      },
      "execution_count": null,
      "outputs": []
    },
    {
      "cell_type": "code",
      "source": [
        "given_list = [1, 2, 3, 3, 3, 3, 4, 4, 5, 5]\n",
        "a= set(given_list)\n",
        "a"
      ],
      "metadata": {
        "colab": {
          "base_uri": "https://localhost:8080/"
        },
        "id": "r0arQGPcklsp",
        "outputId": "7943b45a-e706-4095-95bd-649b8ada771e"
      },
      "execution_count": 13,
      "outputs": [
        {
          "output_type": "execute_result",
          "data": {
            "text/plain": [
              "{1, 2, 3, 4, 5}"
            ]
          },
          "metadata": {},
          "execution_count": 13
        }
      ]
    },
    {
      "cell_type": "code",
      "source": [
        "USA = set(\"Washington\")\n",
        "NEW_ZEALAND = set(\"Wellington\")\n",
        "print(USA - NEW_ZEALAND)\n",
        "print(USA | NEW_ZEALAND)\n",
        "print(USA & NEW_ZEALAND)"
      ],
      "metadata": {
        "colab": {
          "base_uri": "https://localhost:8080/"
        },
        "id": "p50oT8j9klqH",
        "outputId": "047cc167-4a96-4388-be45-df104a548b8b"
      },
      "execution_count": 16,
      "outputs": [
        {
          "output_type": "stream",
          "name": "stdout",
          "text": [
            "{'s', 'a', 'h'}\n",
            "{'e', 'o', 'g', 'a', 's', 'n', 'h', 'W', 't', 'i', 'l'}\n",
            "{'o', 'g', 'n', 'W', 't', 'i'}\n"
          ]
        }
      ]
    },
    {
      "cell_type": "code",
      "source": [
        "k1 = set([1, 2, 3])\n",
        "k2 = set([1, 3, 5])\n",
        "k1.difference(k2)"
      ],
      "metadata": {
        "colab": {
          "base_uri": "https://localhost:8080/"
        },
        "id": "Cta5gkHUkln5",
        "outputId": "7849a1cf-89f0-4be8-e4aa-671b7c405f52"
      },
      "execution_count": 18,
      "outputs": [
        {
          "output_type": "execute_result",
          "data": {
            "text/plain": [
              "{2}"
            ]
          },
          "metadata": {},
          "execution_count": 18
        }
      ]
    },
    {
      "cell_type": "code",
      "source": [
        "minced_meat = True\n",
        "hamburger_bread = True\n",
        "lettuce = True\n",
        "union = False\n",
        "pepper = True\n",
        "grocery_store = True"
      ],
      "metadata": {
        "id": "64qgDPghkllP"
      },
      "execution_count": 20,
      "outputs": []
    },
    {
      "cell_type": "code",
      "source": [
        "hamburger = minced_meat and hamburger_bread and (lettuce or union) and pepper and grocery_store"
      ],
      "metadata": {
        "id": "7ftS2opoklid"
      },
      "execution_count": 21,
      "outputs": []
    },
    {
      "cell_type": "code",
      "source": [
        "if hamburger:\n",
        "  print(\"Bos Apettite\")\n"
      ],
      "metadata": {
        "colab": {
          "base_uri": "https://localhost:8080/"
        },
        "id": "rNnDqUQPklgS",
        "outputId": "860039f1-87c2-42e6-a93d-6048f9aa0a5c"
      },
      "execution_count": 22,
      "outputs": [
        {
          "output_type": "stream",
          "name": "stdout",
          "text": [
            "Bos Apettite\n"
          ]
        }
      ]
    },
    {
      "cell_type": "code",
      "source": [],
      "metadata": {
        "id": "zG4m-oSJkldl"
      },
      "execution_count": null,
      "outputs": []
    },
    {
      "cell_type": "code",
      "source": [],
      "metadata": {
        "id": "JK4C6vsWkla4"
      },
      "execution_count": null,
      "outputs": []
    },
    {
      "cell_type": "code",
      "source": [],
      "metadata": {
        "id": "bt701HlfklYX"
      },
      "execution_count": null,
      "outputs": []
    },
    {
      "cell_type": "code",
      "source": [],
      "metadata": {
        "id": "b21V4esBhylZ"
      },
      "execution_count": null,
      "outputs": []
    }
  ]
}