{
  "nbformat": 4,
  "nbformat_minor": 0,
  "metadata": {
    "colab": {
      "provenance": [],
      "authorship_tag": "ABX9TyNEIWFrNEsGdU5WQicxOxAb",
      "include_colab_link": true
    },
    "kernelspec": {
      "name": "python3",
      "display_name": "Python 3"
    },
    "language_info": {
      "name": "python"
    }
  },
  "cells": [
    {
      "cell_type": "markdown",
      "metadata": {
        "id": "view-in-github",
        "colab_type": "text"
      },
      "source": [
        "<a href=\"https://colab.research.google.com/github/F4069-Ertan/gitclass1/blob/main/09_11_2022.ipynb\" target=\"_parent\"><img src=\"https://colab.research.google.com/assets/colab-badge.svg\" alt=\"Open In Colab\"/></a>"
      ]
    },
    {
      "cell_type": "code",
      "execution_count": 5,
      "metadata": {
        "colab": {
          "base_uri": "https://localhost:8080/"
        },
        "id": "t-nOuypjaf91",
        "outputId": "28506e84-f799-4634-94fa-79c338e764f0"
      },
      "outputs": [
        {
          "output_type": "stream",
          "name": "stdout",
          "text": [
            "[1, 4, 9, 16, 25]\n"
          ]
        }
      ],
      "source": [
        "def kare(x):\n",
        "  return x**2\n",
        "\n",
        "iterable = [1, 2, 3, 4, 5]\n",
        "\n",
        "a = list(map(kare, iterable))\n",
        "print(a)\n"
      ]
    },
    {
      "cell_type": "code",
      "source": [
        "nums1= [9,6,7,4]\n",
        "nums2 = [3,6,5,8]\n",
        "\n",
        "ortalama = lambda x, y : (x+y)/2\n",
        "sonuç = map(ortalama, nums1, nums2)\n",
        "\n",
        "print(list(sonuç))"
      ],
      "metadata": {
        "colab": {
          "base_uri": "https://localhost:8080/"
        },
        "id": "zeakd07GagXu",
        "outputId": "0d8fae4d-3f25-4050-f51b-620fa2e54c8a"
      },
      "execution_count": 8,
      "outputs": [
        {
          "output_type": "stream",
          "name": "stdout",
          "text": [
            "[6.0, 6.0, 6.0, 6.0]\n"
          ]
        }
      ]
    },
    {
      "cell_type": "code",
      "source": [],
      "metadata": {
        "id": "57KIBFmQagaO"
      },
      "execution_count": null,
      "outputs": []
    },
    {
      "cell_type": "code",
      "source": [
        "words1 = [\"you \", \"much \", \"hard\"]\n",
        "words2 =[\"i \", \"you \", \"he \"]\n",
        "words3 = [\"love \", \"ate \", \"works \"]\n",
        "\n",
        "fonk = lambda a, b, c : a + b + c\n",
        "\n",
        "sonuç = map(fonk, words2, words3, words1)\n",
        "print(*sonuç)"
      ],
      "metadata": {
        "colab": {
          "base_uri": "https://localhost:8080/"
        },
        "id": "0YD_DZrqagc3",
        "outputId": "6d5ff56a-6abc-4e4f-b5a5-f1a282b2dd9e"
      },
      "execution_count": 13,
      "outputs": [
        {
          "output_type": "stream",
          "name": "stdout",
          "text": [
            "i love you  you ate much  he works hard\n"
          ]
        }
      ]
    },
    {
      "cell_type": "code",
      "source": [],
      "metadata": {
        "id": "x0eL6-Yuage-"
      },
      "execution_count": null,
      "outputs": []
    },
    {
      "cell_type": "code",
      "source": [
        "first_ten = [0, 1, 2, 3, 4, 5, 6, 7, 8, 9]\n",
        "even = filter(lambda x: x%2 == 0, first_ten)\n",
        "\n",
        "print(list(even))"
      ],
      "metadata": {
        "colab": {
          "base_uri": "https://localhost:8080/"
        },
        "id": "4NWIwYjiaghV",
        "outputId": "69398d31-d7cb-4eda-8d20-72ec79b45d85"
      },
      "execution_count": 14,
      "outputs": [
        {
          "output_type": "stream",
          "name": "stdout",
          "text": [
            "[0, 2, 4, 6, 8]\n"
          ]
        }
      ]
    },
    {
      "cell_type": "code",
      "source": [
        "words = [\"apple\", \"swim\", \"clock\", \"me\", \"kiwi\", \"banana\"]\n",
        "\n",
        "fonk = filter(lambda x: len(x) < 5, words)\n",
        "\n",
        "print(*fonk)"
      ],
      "metadata": {
        "colab": {
          "base_uri": "https://localhost:8080/"
        },
        "id": "ScWeECJ-agjh",
        "outputId": "6a889251-8887-483a-8863-06ad167859a4"
      },
      "execution_count": 15,
      "outputs": [
        {
          "output_type": "stream",
          "name": "stdout",
          "text": [
            "swim me kiwi\n"
          ]
        }
      ]
    },
    {
      "cell_type": "code",
      "source": [
        "letter1 = \"a b c\".split()\n",
        "letter2 = \"x, y, z\".split()\n",
        "\n",
        "list(map((lambda x, y: (x, y)), letter1, letter2))"
      ],
      "metadata": {
        "colab": {
          "base_uri": "https://localhost:8080/"
        },
        "id": "KqNuoFKHaglv",
        "outputId": "c1e5b880-632c-4262-c0d2-9f8f3f9df1d2"
      },
      "execution_count": 21,
      "outputs": [
        {
          "output_type": "execute_result",
          "data": {
            "text/plain": [
              "[('a', 'x,'), ('b', 'y,'), ('c', 'z')]"
            ]
          },
          "metadata": {},
          "execution_count": 21
        }
      ]
    },
    {
      "cell_type": "code",
      "source": [],
      "metadata": {
        "id": "qod7SHehagn-"
      },
      "execution_count": null,
      "outputs": []
    },
    {
      "cell_type": "code",
      "source": [
        "first_ten = ['a', 'b', 'c', 'd', 'e', 'f', 'g', 'h', 'i', 'j']\n",
        "vowels = [\"a\", \"e\", \"i\", \"o\", \"u\"]"
      ],
      "metadata": {
        "id": "sThzsWmospP8"
      },
      "execution_count": 29,
      "outputs": []
    },
    {
      "cell_type": "code",
      "source": [
        "a = lambda x: True if x in vowels else False\n",
        "b= filter(a, first_ten)\n",
        "print(list(b))"
      ],
      "metadata": {
        "colab": {
          "base_uri": "https://localhost:8080/"
        },
        "id": "YEIqk6KXspN3",
        "outputId": "ca76fd40-b20c-41ff-ab85-88f7488b0299"
      },
      "execution_count": 32,
      "outputs": [
        {
          "output_type": "stream",
          "name": "stdout",
          "text": [
            "['a', 'e', 'i']\n"
          ]
        }
      ]
    },
    {
      "cell_type": "code",
      "source": [
        "a = filter(lambda x: x in vowels, first_ten)\n",
        "print(*a)"
      ],
      "metadata": {
        "colab": {
          "base_uri": "https://localhost:8080/"
        },
        "id": "5J8zoRqLspLB",
        "outputId": "5b93eb9e-5dc5-49be-a4d2-d7b8c49ad8b5"
      },
      "execution_count": 35,
      "outputs": [
        {
          "output_type": "stream",
          "name": "stdout",
          "text": [
            "a e i\n"
          ]
        }
      ]
    },
    {
      "cell_type": "code",
      "source": [],
      "metadata": {
        "id": "U-qzGRdwspIa"
      },
      "execution_count": null,
      "outputs": []
    },
    {
      "cell_type": "code",
      "source": [],
      "metadata": {
        "id": "WXhc18D20YS6"
      },
      "execution_count": null,
      "outputs": []
    },
    {
      "cell_type": "code",
      "source": [
        "def repeater(n):\n",
        "  return lambda x: x * n\n",
        "\n",
        "two_repeat = repeater(2)\n",
        "\n",
        "two_repeat(\"ali\")"
      ],
      "metadata": {
        "colab": {
          "base_uri": "https://localhost:8080/",
          "height": 36
        },
        "id": "aqVlotRF0YRS",
        "outputId": "a720fa09-2e85-47d0-f32e-32b8a1112aab"
      },
      "execution_count": 38,
      "outputs": [
        {
          "output_type": "execute_result",
          "data": {
            "text/plain": [
              "'aliali'"
            ],
            "application/vnd.google.colaboratory.intrinsic+json": {
              "type": "string"
            }
          },
          "metadata": {},
          "execution_count": 38
        }
      ]
    },
    {
      "cell_type": "code",
      "source": [
        "def func(emo):\n",
        "  return lambda x: x + emo\n",
        "\n",
        "smile = func(\":)\")\n",
        "\n",
        "smile(\"hello\")\n"
      ],
      "metadata": {
        "colab": {
          "base_uri": "https://localhost:8080/",
          "height": 36
        },
        "id": "qSYvqU0I0YPM",
        "outputId": "c755ae46-9305-42e4-f642-e88dc591d98e"
      },
      "execution_count": 43,
      "outputs": [
        {
          "output_type": "execute_result",
          "data": {
            "text/plain": [
              "'hello:)'"
            ],
            "application/vnd.google.colaboratory.intrinsic+json": {
              "type": "string"
            }
          },
          "metadata": {},
          "execution_count": 43
        }
      ]
    },
    {
      "cell_type": "code",
      "source": [
        "ertan_print()\n",
        "ertan_max()\n",
        "ertan_bool()\n",
        "\n"
      ],
      "metadata": {
        "id": "rdHJTm1p0YNT"
      },
      "execution_count": null,
      "outputs": []
    },
    {
      "cell_type": "code",
      "source": [
        "def function_generator():\n",
        "  return lambda x : print(x)\n",
        "ertan_print = function_generator()\n",
        "\n",
        "ertan_print(\"ertan\")"
      ],
      "metadata": {
        "colab": {
          "base_uri": "https://localhost:8080/"
        },
        "id": "-3Fnk_xW0YLR",
        "outputId": "5a05f56a-4572-4c47-8342-358869b1b4bf"
      },
      "execution_count": 44,
      "outputs": [
        {
          "output_type": "stream",
          "name": "stdout",
          "text": [
            "ertan\n"
          ]
        }
      ]
    },
    {
      "cell_type": "code",
      "source": [
        "def function_generator():\n",
        "  return lambda x : max(x)\n",
        "ertan_max = function_generator()\n",
        "\n",
        "ertan_max([1,2,3,4])"
      ],
      "metadata": {
        "colab": {
          "base_uri": "https://localhost:8080/"
        },
        "id": "xKu8Wikq0YIw",
        "outputId": "5b96151f-7a4b-448a-d4b5-963c6e0c0c0f"
      },
      "execution_count": 46,
      "outputs": [
        {
          "output_type": "execute_result",
          "data": {
            "text/plain": [
              "4"
            ]
          },
          "metadata": {},
          "execution_count": 46
        }
      ]
    },
    {
      "cell_type": "code",
      "source": [],
      "metadata": {
        "id": "ALV48vDw0YGQ"
      },
      "execution_count": null,
      "outputs": []
    }
  ]
}