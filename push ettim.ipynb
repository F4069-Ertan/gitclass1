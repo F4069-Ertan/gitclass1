{
  "nbformat": 4,
  "nbformat_minor": 0,
  "metadata": {
    "colab": {
      "provenance": [],
      "collapsed_sections": [],
      "authorship_tag": "ABX9TyOhPNBKKMCdmTHAE8mb89pZ",
      "include_colab_link": true
    },
    "kernelspec": {
      "name": "python3",
      "display_name": "Python 3"
    },
    "language_info": {
      "name": "python"
    }
  },
  "cells": [
    {
      "cell_type": "markdown",
      "metadata": {
        "id": "view-in-github",
        "colab_type": "text"
      },
      "source": [
        "<a href=\"https://colab.research.google.com/github/F4069-Ertan/gitclass1/blob/main/push%20ettim.ipynb\" target=\"_parent\"><img src=\"https://colab.research.google.com/assets/colab-badge.svg\" alt=\"Open In Colab\"/></a>"
      ]
    },
    {
      "cell_type": "code",
      "source": [
        "print(\"Hello World!\")"
      ],
      "metadata": {
        "id": "ajIWN34gL3xS",
        "colab": {
          "base_uri": "https://localhost:8080/"
        },
        "outputId": "c7c997ad-6f13-4ab5-8f0b-472bb387fcdd"
      },
      "execution_count": null,
      "outputs": [
        {
          "output_type": "stream",
          "name": "stdout",
          "text": [
            "Hello World!\n"
          ]
        }
      ]
    },
    {
      "cell_type": "code",
      "source": [
        "print(\"Ahemt Bey\"in kedisi\")"
      ],
      "metadata": {
        "colab": {
          "base_uri": "https://localhost:8080/",
          "height": 130
        },
        "id": "ZebcIO6DZmpL",
        "outputId": "655fea30-0a7e-45a2-b66b-a1abb8d1e2ab"
      },
      "execution_count": null,
      "outputs": [
        {
          "output_type": "error",
          "ename": "SyntaxError",
          "evalue": "ignored",
          "traceback": [
            "\u001b[0;36m  File \u001b[0;32m\"<ipython-input-4-46a94163f9cd>\"\u001b[0;36m, line \u001b[0;32m1\u001b[0m\n\u001b[0;31m    print(\"Ahemt Bey\"\"\"in kedisi\")\u001b[0m\n\u001b[0m                                  ^\u001b[0m\n\u001b[0;31mSyntaxError\u001b[0m\u001b[0;31m:\u001b[0m EOL while scanning string literal\n"
          ]
        }
      ]
    },
    {
      "cell_type": "code",
      "source": [
        "print(\"\"\"merhaba\n",
        "nasılsın\"\"\")"
      ],
      "metadata": {
        "colab": {
          "base_uri": "https://localhost:8080/"
        },
        "id": "hoRxz-5gZmzc",
        "outputId": "fa729154-dd5f-4cb4-d537-b1f7ef3786c1"
      },
      "execution_count": null,
      "outputs": [
        {
          "output_type": "stream",
          "name": "stdout",
          "text": [
            "merhaba\n",
            "nasılsın\n"
          ]
        }
      ]
    },
    {
      "cell_type": "code",
      "source": [
        "print(\"\")\n"
      ],
      "metadata": {
        "colab": {
          "base_uri": "https://localhost:8080/"
        },
        "id": "UnoZR0e3Zm3s",
        "outputId": "25fbbb99-d022-49e0-da04-4276bfbc981d"
      },
      "execution_count": null,
      "outputs": [
        {
          "output_type": "stream",
          "name": "stdout",
          "text": [
            "\n"
          ]
        }
      ]
    },
    {
      "cell_type": "code",
      "source": [
        "# \"ali\"\n",
        "# \"veli\"\n",
        "# \"deli\""
      ],
      "metadata": {
        "id": "Eion8VeLZm7C"
      },
      "execution_count": null,
      "outputs": []
    },
    {
      "cell_type": "code",
      "source": [
        "adı = 'ertan'\n",
        "x = "
      ],
      "metadata": {
        "id": "NfzvBdT6Zm-N"
      },
      "execution_count": null,
      "outputs": []
    },
    {
      "cell_type": "code",
      "source": [
        "(\"5\" + \"1\")\n"
      ],
      "metadata": {
        "id": "_vZhokCtZnAz",
        "colab": {
          "base_uri": "https://localhost:8080/",
          "height": 36
        },
        "outputId": "8afac5d1-0a3e-45eb-ba29-ee32c751317c"
      },
      "execution_count": null,
      "outputs": [
        {
          "output_type": "execute_result",
          "data": {
            "text/plain": [
              "'51'"
            ],
            "application/vnd.google.colaboratory.intrinsic+json": {
              "type": "string"
            }
          },
          "metadata": {},
          "execution_count": 1
        }
      ]
    },
    {
      "cell_type": "code",
      "source": [
        "type(11)"
      ],
      "metadata": {
        "id": "CE1XCC-EZnGK",
        "colab": {
          "base_uri": "https://localhost:8080/"
        },
        "outputId": "97a1fce3-4b0d-4996-ee5e-9b34cc16da24"
      },
      "execution_count": null,
      "outputs": [
        {
          "output_type": "execute_result",
          "data": {
            "text/plain": [
              "int"
            ]
          },
          "metadata": {},
          "execution_count": 2
        }
      ]
    },
    {
      "cell_type": "code",
      "source": [
        "capital = int(input(\"Lütfen elinizdeki sermayenizi girin:\"))\n",
        "kar_yuzdesi = int(input(\"Lütfen finans kuruluşunun sağladığı kar oranını girin:\"))\n",
        "vade_uzunlugu = int(input(\"Kaçıncı günün sonunda sermayenizin ulaştığı MİKTARI GÖRMEK istiyorsunuz:\"))\n",
        "new_capital = capital * ((100 + kar_yuzdesi)/100) ** vade_uzunlugu\n",
        "\n",
        "print(new_capital)"
      ],
      "metadata": {
        "id": "K0jd2Af4ZnI6",
        "colab": {
          "base_uri": "https://localhost:8080/"
        },
        "outputId": "1744452a-72ef-40eb-fb4a-4e1532cc7e98"
      },
      "execution_count": null,
      "outputs": [
        {
          "output_type": "stream",
          "name": "stdout",
          "text": [
            "Lütfen elinizdeki sermayenizi girin:1000\n",
            "Lütfen finans kuruluşunun sağladığı kar oranını girin:7\n",
            "Kaçıncı günün sonunda sermayenizin ulaştığı MİKTARI GÖRMEK istiyorsunuz:7\n",
            "1605.7814764784307\n"
          ]
        }
      ]
    },
    {
      "cell_type": "code",
      "source": [
        "ana_para=int(input(\"miktar\"))\n",
        "kar_oranı=int(input(\"günlük kar yüzde\"))\n",
        "işlem_süresi=int(input(\"gün sayısı\"))\n",
        "işlem_sonu_toplam=float(ana_para*(((100+kar_oranı)/100)**(işlem_süresi)))\n",
        "\n",
        "print(işlem_sonu_toplam)"
      ],
      "metadata": {
        "id": "LEd8rMJYZnL4",
        "colab": {
          "base_uri": "https://localhost:8080/"
        },
        "outputId": "b7885460-5b36-420a-cc03-ead8e9c2675c"
      },
      "execution_count": null,
      "outputs": [
        {
          "output_type": "stream",
          "name": "stdout",
          "text": [
            "miktar1000\n",
            "günlük kar yüzde7\n",
            "gün sayısı7\n",
            "1605.7814764784307\n"
          ]
        }
      ]
    },
    {
      "cell_type": "code",
      "source": [
        "c = float(input(\"Lütfen Celsius cinsinden dereceyi girin:\"))\n",
        "\n",
        "f = float(c * 1.8000 + 32.00)\n",
        "\n",
        "print(\"Hava sıcaklığının Fahrenheit cinsinden değeri:\", f)"
      ],
      "metadata": {
        "id": "pTlFaz5aZnOY",
        "colab": {
          "base_uri": "https://localhost:8080/"
        },
        "outputId": "7e6cb07e-99fc-423f-e78d-dea94a3cc244"
      },
      "execution_count": null,
      "outputs": [
        {
          "output_type": "stream",
          "name": "stdout",
          "text": [
            "Lütfen Celsius cinsinden dereceyi girin:35.5\n",
            "Hava sıcaklığının Fahrenheit cinsinden değeri: 95.9\n"
          ]
        }
      ]
    },
    {
      "cell_type": "code",
      "source": [
        "km = float(input(\"Lütfen km'yi giriniz:\"))\n",
        "\n",
        "mile = float(km * 0.6214)\n",
        "\n",
        "print(\"Girdiğiniz km değerinin mil cinsinden değeri:\", mile)"
      ],
      "metadata": {
        "id": "wyllJiaJZnRK",
        "colab": {
          "base_uri": "https://localhost:8080/"
        },
        "outputId": "3a2f0b2f-6bdf-44a1-eba2-0558045b4f01"
      },
      "execution_count": null,
      "outputs": [
        {
          "output_type": "stream",
          "name": "stdout",
          "text": [
            "Lütfen km'yi giriniz:100\n",
            "Girdiğiniz km değerinin mil cinsinden değeri: 62.13999999999999\n"
          ]
        }
      ]
    },
    {
      "cell_type": "code",
      "source": [
        "print(not 0 and \"write me\")"
      ],
      "metadata": {
        "id": "yl241zjNZnTh",
        "colab": {
          "base_uri": "https://localhost:8080/"
        },
        "outputId": "f1fc2234-71c4-409b-b117-8bffca8c8666"
      },
      "execution_count": null,
      "outputs": [
        {
          "output_type": "stream",
          "name": "stdout",
          "text": [
            "write me\n"
          ]
        }
      ]
    },
    {
      "cell_type": "code",
      "source": [
        "text = \"Clarusway\"\n",
        "text.replace(\"C\", \"c\")\n",
        "\n",
        "\n"
      ],
      "metadata": {
        "colab": {
          "base_uri": "https://localhost:8080/",
          "height": 36
        },
        "id": "EV2FwI2DC9Ca",
        "outputId": "2fea4efa-6636-42b3-999e-5fb6189d20dc"
      },
      "execution_count": null,
      "outputs": [
        {
          "output_type": "execute_result",
          "data": {
            "text/plain": [
              "'clarusway'"
            ],
            "application/vnd.google.colaboratory.intrinsic+json": {
              "type": "string"
            }
          },
          "metadata": {},
          "execution_count": 2
        }
      ]
    },
    {
      "cell_type": "code",
      "source": [
        "text"
      ],
      "metadata": {
        "colab": {
          "base_uri": "https://localhost:8080/",
          "height": 36
        },
        "id": "1T4x5h2jC9Ax",
        "outputId": "fd4ba13e-196a-4ca5-e6c4-a82e3e251ff1"
      },
      "execution_count": null,
      "outputs": [
        {
          "output_type": "execute_result",
          "data": {
            "text/plain": [
              "'Clarusway'"
            ],
            "application/vnd.google.colaboratory.intrinsic+json": {
              "type": "string"
            }
          },
          "metadata": {},
          "execution_count": 3
        }
      ]
    },
    {
      "cell_type": "code",
      "source": [
        "text.replace(\"a\", \"--\").replace(\"s\", \"\").upper()"
      ],
      "metadata": {
        "colab": {
          "base_uri": "https://localhost:8080/",
          "height": 36
        },
        "id": "ObB2YwnwC8-K",
        "outputId": "76fdf08c-cce2-406c-c9e7-97a07458036c"
      },
      "execution_count": null,
      "outputs": [
        {
          "output_type": "execute_result",
          "data": {
            "text/plain": [
              "'CL--RUW--Y'"
            ],
            "application/vnd.google.colaboratory.intrinsic+json": {
              "type": "string"
            }
          },
          "metadata": {},
          "execution_count": 8
        }
      ]
    },
    {
      "cell_type": "code",
      "source": [
        "a = \"Clarusway\"\n",
        "a.replace(\"a\", \"u\", 1)\n"
      ],
      "metadata": {
        "colab": {
          "base_uri": "https://localhost:8080/",
          "height": 36
        },
        "id": "o_2Yzc7jC87K",
        "outputId": "7f75ea46-d903-47a2-f024-6cf63c1bd3ce"
      },
      "execution_count": null,
      "outputs": [
        {
          "output_type": "execute_result",
          "data": {
            "text/plain": [
              "'Clurusway'"
            ],
            "application/vnd.google.colaboratory.intrinsic+json": {
              "type": "string"
            }
          },
          "metadata": {},
          "execution_count": 13
        }
      ]
    },
    {
      "cell_type": "code",
      "source": [
        "\"ben bu kursta öğrencş olmaktan dolayı \\\n",
        "çk mutluyum. ben de edwin hoca olarak sizlere ders \\\n",
        "anlatmaktan büyük zevk duyuyorum\".title()"
      ],
      "metadata": {
        "colab": {
          "base_uri": "https://localhost:8080/",
          "height": 36
        },
        "id": "UEL-7-nuC84a",
        "outputId": "7b5ba0be-bae0-49e5-de7e-49666cb40908"
      },
      "execution_count": null,
      "outputs": [
        {
          "output_type": "execute_result",
          "data": {
            "text/plain": [
              "'Ben Bu Kursta Öğrencş Olmaktan Dolayı Çk Mutluyum. Ben De Edwin Hoca Olarak Sizlere Ders Anlatmaktan Büyük Zevk Duyuyorum'"
            ],
            "application/vnd.google.colaboratory.intrinsic+json": {
              "type": "string"
            }
          },
          "metadata": {},
          "execution_count": 14
        }
      ]
    },
    {
      "cell_type": "code",
      "source": [
        "text = \"the better the family, the better the society\"\n",
        "changed_text = text.title()\n",
        "changed_text"
      ],
      "metadata": {
        "colab": {
          "base_uri": "https://localhost:8080/",
          "height": 36
        },
        "id": "Tm_uQjPYC818",
        "outputId": "9af211fa-6f07-40e1-c9f1-b6b65579bf78"
      },
      "execution_count": null,
      "outputs": [
        {
          "output_type": "execute_result",
          "data": {
            "text/plain": [
              "'The Better The Family, The Better The Society'"
            ],
            "application/vnd.google.colaboratory.intrinsic+json": {
              "type": "string"
            }
          },
          "metadata": {},
          "execution_count": 15
        }
      ]
    },
    {
      "cell_type": "code",
      "source": [
        "text = \"s0d0me and g0m0re\"\n",
        "text1 = text.replace(\"0\", \"o\")\n",
        "text1"
      ],
      "metadata": {
        "colab": {
          "base_uri": "https://localhost:8080/",
          "height": 36
        },
        "id": "7syNOmCJC8yj",
        "outputId": "24f6de0d-e4ae-4db3-a961-617e2aaecf4e"
      },
      "execution_count": null,
      "outputs": [
        {
          "output_type": "execute_result",
          "data": {
            "text/plain": [
              "'sodome and gomore'"
            ],
            "application/vnd.google.colaboratory.intrinsic+json": {
              "type": "string"
            }
          },
          "metadata": {},
          "execution_count": 17
        }
      ]
    },
    {
      "cell_type": "code",
      "source": [
        "my_string = \"       listen first      \"\n",
        "my_string.strip()\n",
        "my_string1 = \"\\n    listen first    \\t\"\n",
        "my_string1\n",
        "\n",
        "my_string1.strip()\n"
      ],
      "metadata": {
        "colab": {
          "base_uri": "https://localhost:8080/",
          "height": 36
        },
        "id": "3h-0EVcuC8vM",
        "outputId": "d058cb89-1f79-471c-9a3f-bb38f8e21586"
      },
      "execution_count": null,
      "outputs": [
        {
          "output_type": "execute_result",
          "data": {
            "text/plain": [
              "'listen first'"
            ],
            "application/vnd.google.colaboratory.intrinsic+json": {
              "type": "string"
            }
          },
          "metadata": {},
          "execution_count": 23
        }
      ]
    },
    {
      "cell_type": "code",
      "source": [
        "\"Er  tan\".replace(\" \", \"\")\n"
      ],
      "metadata": {
        "colab": {
          "base_uri": "https://localhost:8080/",
          "height": 36
        },
        "id": "RBxnlGWMC8sZ",
        "outputId": "10d922ec-c220-4ab3-d9d9-0fc477d9079e"
      },
      "execution_count": null,
      "outputs": [
        {
          "output_type": "execute_result",
          "data": {
            "text/plain": [
              "'Ertan'"
            ],
            "application/vnd.google.colaboratory.intrinsic+json": {
              "type": "string"
            }
          },
          "metadata": {},
          "execution_count": 24
        }
      ]
    },
    {
      "cell_type": "code",
      "source": [
        "text = \"tyou can learn almost everything in pre-classz\"\n",
        "print(text.strip(\"tz\").upper())\n",
        "\n"
      ],
      "metadata": {
        "colab": {
          "base_uri": "https://localhost:8080/"
        },
        "id": "MErxAxfDC8pb",
        "outputId": "9c489e47-6e5a-4576-c5df-952357e3267b"
      },
      "execution_count": null,
      "outputs": [
        {
          "output_type": "stream",
          "name": "stdout",
          "text": [
            "YOU CAN LEARN ALMOST EVERYTHING IN PRE-CLASS\n"
          ]
        }
      ]
    },
    {
      "cell_type": "code",
      "source": [
        "text.replace(\"ee\", \"e\")"
      ],
      "metadata": {
        "id": "9X7SwZeeC8mZ"
      },
      "execution_count": null,
      "outputs": []
    },
    {
      "cell_type": "code",
      "source": [
        "list(\"Ertan\")"
      ],
      "metadata": {
        "colab": {
          "base_uri": "https://localhost:8080/"
        },
        "id": "H0gtKUMKC8j0",
        "outputId": "4a539c68-4637-4326-b89a-e4d9060223f5"
      },
      "execution_count": null,
      "outputs": [
        {
          "output_type": "execute_result",
          "data": {
            "text/plain": [
              "['E', 'r', 't', 'a', 'n']"
            ]
          },
          "metadata": {},
          "execution_count": 30
        }
      ]
    },
    {
      "cell_type": "code",
      "source": [],
      "metadata": {
        "id": "Nw7BIuJMC8hK"
      },
      "execution_count": null,
      "outputs": []
    },
    {
      "cell_type": "code",
      "source": [],
      "metadata": {
        "id": "9zbnXQ8eC8eM"
      },
      "execution_count": null,
      "outputs": []
    },
    {
      "cell_type": "code",
      "source": [],
      "metadata": {
        "id": "3nPei-DKC8bb"
      },
      "execution_count": null,
      "outputs": []
    },
    {
      "cell_type": "code",
      "source": [],
      "metadata": {
        "id": "ftLEiZqFC8S-"
      },
      "execution_count": null,
      "outputs": []
    },
    {
      "cell_type": "code",
      "source": [],
      "metadata": {
        "id": "2d2rGo3oZnWB"
      },
      "execution_count": null,
      "outputs": []
    }
  ]
}