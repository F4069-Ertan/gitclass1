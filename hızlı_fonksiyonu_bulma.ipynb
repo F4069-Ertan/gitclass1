{
  "nbformat": 4,
  "nbformat_minor": 0,
  "metadata": {
    "colab": {
      "provenance": [],
      "authorship_tag": "ABX9TyPwTgzKc0aHKCoGksQsM8E0",
      "include_colab_link": true
    },
    "kernelspec": {
      "name": "python3",
      "display_name": "Python 3"
    },
    "language_info": {
      "name": "python"
    }
  },
  "cells": [
    {
      "cell_type": "markdown",
      "metadata": {
        "id": "view-in-github",
        "colab_type": "text"
      },
      "source": [
        "<a href=\"https://colab.research.google.com/github/F4069-Ertan/gitclass1/blob/main/h%C4%B1zl%C4%B1_fonksiyonu_bulma.ipynb\" target=\"_parent\"><img src=\"https://colab.research.google.com/assets/colab-badge.svg\" alt=\"Open In Colab\"/></a>"
      ]
    },
    {
      "cell_type": "code",
      "execution_count": null,
      "metadata": {
        "id": "IYE2TI90FlyT"
      },
      "outputs": [],
      "source": [
        "from timeit import timeit\n",
        "\n",
        "def for_loop():\n",
        "    result = []\n",
        "    for i in range(1000000):\n",
        "        result.append(i)\n",
        "    return result\n",
        "def list_comprehension():\n",
        "    return[i for i in range(1000000)]\n",
        "expSize = 100\n",
        "time1 = timeit(for_loop, number = expSize)\n",
        "time2 = timeit(list_comprehension, number =expSize)\n",
        "print(f\"list comprehension is {round(time1/time2, 2)} times faster than for loop\")"
      ]
    }
  ]
}